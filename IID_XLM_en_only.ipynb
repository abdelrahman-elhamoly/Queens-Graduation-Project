{
  "cells": [
    {
      "cell_type": "markdown",
      "metadata": {
        "id": "fuR_75kTLf9T"
      },
      "source": [
        "#<a> Transformers for Emoji prediction in Federated systems. </a>\n",
        "\n",
        "> ![](https://i.imgur.com/fOeJmu3.jpg)\n",
        "\n",
        "\n",
        "\n",
        "> The experimental landscape in natural language processing for social media is too fragmented. Each year, new shared tasks and\n",
        "datasets are proposed, ranging from classics\n",
        "like sentiment analysis to irony detection or\n",
        "emoji prediction. Therefore, it is unclear what\n",
        "the current state of the art is, as there is\n",
        "no standardized evaluation protocol, neither a\n",
        "strong set of baselines trained on such domainspecific data.\n",
        "\n",
        "> [Source: TWEETEVAL paper](https://arxiv.org/pdf/2010.12421.pdf) & [Source Photo](https://i.imgur.com/fOeJmu3.jpg)\n",
        "\n",
        "\n",
        "\n",
        "\n"
      ]
    },
    {
      "cell_type": "markdown",
      "metadata": {
        "id": "i-XXVbBcKs_0"
      },
      "source": [
        "## <a>Install some packages "
      ]
    },
    {
      "cell_type": "code",
      "execution_count": null,
      "metadata": {
        "id": "Wgnff9vxKOTh",
        "colab": {
          "base_uri": "https://localhost:8080/",
          "height": 1000
        },
        "outputId": "1eddeff8-9e2d-4e84-e667-4acdf550499e"
      },
      "outputs": [
        {
          "output_type": "stream",
          "name": "stdout",
          "text": [
            "Looking in indexes: https://pypi.org/simple, https://us-python.pkg.dev/colab-wheels/public/simple/\n",
            "Collecting flwr[simulation]\n",
            "  Downloading flwr-1.0.0-py3-none-any.whl (90 kB)\n",
            "\u001b[K     |████████████████████████████████| 90 kB 3.7 MB/s \n",
            "\u001b[?25hCollecting iterators<0.0.3,>=0.0.2\n",
            "  Downloading iterators-0.0.2-py3-none-any.whl (3.9 kB)\n",
            "Collecting protobuf<4.0.0,>=3.19.0\n",
            "  Downloading protobuf-3.20.3-cp37-cp37m-manylinux_2_5_x86_64.manylinux1_x86_64.whl (1.0 MB)\n",
            "\u001b[K     |████████████████████████████████| 1.0 MB 28.1 MB/s \n",
            "\u001b[?25hRequirement already satisfied: grpcio<2.0.0,>=1.43.0 in /usr/local/lib/python3.7/dist-packages (from flwr[simulation]) (1.49.1)\n",
            "Requirement already satisfied: importlib-metadata<5.0.0,>=4.0.0 in /usr/local/lib/python3.7/dist-packages (from flwr[simulation]) (4.13.0)\n",
            "Requirement already satisfied: numpy<2.0.0,>=1.21.0 in /usr/local/lib/python3.7/dist-packages (from flwr[simulation]) (1.21.6)\n",
            "Collecting ray[default]<1.14.0,>=1.13.0\n",
            "  Downloading ray-1.13.0-cp37-cp37m-manylinux2014_x86_64.whl (54.5 MB)\n",
            "\u001b[K     |████████████████████████████████| 54.5 MB 1.3 MB/s \n",
            "\u001b[?25hRequirement already satisfied: six>=1.5.2 in /usr/local/lib/python3.7/dist-packages (from grpcio<2.0.0,>=1.43.0->flwr[simulation]) (1.15.0)\n",
            "Requirement already satisfied: typing-extensions>=3.6.4 in /usr/local/lib/python3.7/dist-packages (from importlib-metadata<5.0.0,>=4.0.0->flwr[simulation]) (4.1.1)\n",
            "Requirement already satisfied: zipp>=0.5 in /usr/local/lib/python3.7/dist-packages (from importlib-metadata<5.0.0,>=4.0.0->flwr[simulation]) (3.9.0)\n",
            "Requirement already satisfied: filelock in /usr/local/lib/python3.7/dist-packages (from ray[default]<1.14.0,>=1.13.0->flwr[simulation]) (3.8.0)\n",
            "Requirement already satisfied: pyyaml in /usr/local/lib/python3.7/dist-packages (from ray[default]<1.14.0,>=1.13.0->flwr[simulation]) (6.0)\n",
            "Requirement already satisfied: click<=8.0.4,>=7.0 in /usr/local/lib/python3.7/dist-packages (from ray[default]<1.14.0,>=1.13.0->flwr[simulation]) (7.1.2)\n",
            "Collecting grpcio<2.0.0,>=1.43.0\n",
            "  Downloading grpcio-1.43.0-cp37-cp37m-manylinux_2_17_x86_64.manylinux2014_x86_64.whl (4.1 MB)\n",
            "\u001b[K     |████████████████████████████████| 4.1 MB 41.6 MB/s \n",
            "\u001b[?25hRequirement already satisfied: msgpack<2.0.0,>=1.0.0 in /usr/local/lib/python3.7/dist-packages (from ray[default]<1.14.0,>=1.13.0->flwr[simulation]) (1.0.4)\n",
            "Requirement already satisfied: aiosignal in /usr/local/lib/python3.7/dist-packages (from ray[default]<1.14.0,>=1.13.0->flwr[simulation]) (1.2.0)\n",
            "Requirement already satisfied: frozenlist in /usr/local/lib/python3.7/dist-packages (from ray[default]<1.14.0,>=1.13.0->flwr[simulation]) (1.3.1)\n",
            "Requirement already satisfied: jsonschema in /usr/local/lib/python3.7/dist-packages (from ray[default]<1.14.0,>=1.13.0->flwr[simulation]) (4.3.3)\n",
            "Requirement already satisfied: attrs in /usr/local/lib/python3.7/dist-packages (from ray[default]<1.14.0,>=1.13.0->flwr[simulation]) (22.1.0)\n",
            "Requirement already satisfied: requests in /usr/local/lib/python3.7/dist-packages (from ray[default]<1.14.0,>=1.13.0->flwr[simulation]) (2.23.0)\n",
            "Collecting virtualenv\n",
            "  Downloading virtualenv-20.16.5-py3-none-any.whl (8.8 MB)\n",
            "\u001b[K     |████████████████████████████████| 8.8 MB 51.4 MB/s \n",
            "\u001b[?25hCollecting prometheus-client<0.14.0,>=0.7.1\n",
            "  Downloading prometheus_client-0.13.1-py3-none-any.whl (57 kB)\n",
            "\u001b[K     |████████████████████████████████| 57 kB 5.2 MB/s \n",
            "\u001b[?25hCollecting gpustat>=1.0.0b1\n",
            "  Downloading gpustat-1.0.0.tar.gz (90 kB)\n",
            "\u001b[K     |████████████████████████████████| 90 kB 8.7 MB/s \n",
            "\u001b[?25hRequirement already satisfied: smart-open in /usr/local/lib/python3.7/dist-packages (from ray[default]<1.14.0,>=1.13.0->flwr[simulation]) (5.2.1)\n",
            "Collecting colorful\n",
            "  Downloading colorful-0.5.4-py2.py3-none-any.whl (201 kB)\n",
            "\u001b[K     |████████████████████████████████| 201 kB 44.4 MB/s \n",
            "\u001b[?25hCollecting aiohttp-cors\n",
            "  Downloading aiohttp_cors-0.7.0-py3-none-any.whl (27 kB)\n",
            "Collecting py-spy>=0.2.0\n",
            "  Downloading py_spy-0.3.14-py2.py3-none-manylinux_2_5_x86_64.manylinux1_x86_64.whl (3.0 MB)\n",
            "\u001b[K     |████████████████████████████████| 3.0 MB 40.9 MB/s \n",
            "\u001b[?25hRequirement already satisfied: aiohttp>=3.7 in /usr/local/lib/python3.7/dist-packages (from ray[default]<1.14.0,>=1.13.0->flwr[simulation]) (3.8.3)\n",
            "Collecting opencensus\n",
            "  Downloading opencensus-0.11.0-py2.py3-none-any.whl (128 kB)\n",
            "\u001b[K     |████████████████████████████████| 128 kB 43.6 MB/s \n",
            "\u001b[?25hRequirement already satisfied: async-timeout<5.0,>=4.0.0a3 in /usr/local/lib/python3.7/dist-packages (from aiohttp>=3.7->ray[default]<1.14.0,>=1.13.0->flwr[simulation]) (4.0.2)\n",
            "Requirement already satisfied: yarl<2.0,>=1.0 in /usr/local/lib/python3.7/dist-packages (from aiohttp>=3.7->ray[default]<1.14.0,>=1.13.0->flwr[simulation]) (1.8.1)\n",
            "Requirement already satisfied: multidict<7.0,>=4.5 in /usr/local/lib/python3.7/dist-packages (from aiohttp>=3.7->ray[default]<1.14.0,>=1.13.0->flwr[simulation]) (6.0.2)\n",
            "Requirement already satisfied: asynctest==0.13.0 in /usr/local/lib/python3.7/dist-packages (from aiohttp>=3.7->ray[default]<1.14.0,>=1.13.0->flwr[simulation]) (0.13.0)\n",
            "Requirement already satisfied: charset-normalizer<3.0,>=2.0 in /usr/local/lib/python3.7/dist-packages (from aiohttp>=3.7->ray[default]<1.14.0,>=1.13.0->flwr[simulation]) (2.1.1)\n",
            "Collecting nvidia-ml-py<=11.495.46,>=11.450.129\n",
            "  Downloading nvidia_ml_py-11.495.46-py3-none-any.whl (25 kB)\n",
            "Collecting psutil>=5.6.0\n",
            "  Downloading psutil-5.9.3-cp37-cp37m-manylinux_2_12_x86_64.manylinux2010_x86_64.manylinux_2_17_x86_64.manylinux2014_x86_64.whl (291 kB)\n",
            "\u001b[K     |████████████████████████████████| 291 kB 57.5 MB/s \n",
            "\u001b[?25hCollecting blessed>=1.17.1\n",
            "  Downloading blessed-1.19.1-py2.py3-none-any.whl (58 kB)\n",
            "\u001b[K     |████████████████████████████████| 58 kB 4.3 MB/s \n",
            "\u001b[?25hRequirement already satisfied: wcwidth>=0.1.4 in /usr/local/lib/python3.7/dist-packages (from blessed>=1.17.1->gpustat>=1.0.0b1->ray[default]<1.14.0,>=1.13.0->flwr[simulation]) (0.2.5)\n",
            "Requirement already satisfied: idna>=2.0 in /usr/local/lib/python3.7/dist-packages (from yarl<2.0,>=1.0->aiohttp>=3.7->ray[default]<1.14.0,>=1.13.0->flwr[simulation]) (2.10)\n",
            "Requirement already satisfied: pyrsistent!=0.17.0,!=0.17.1,!=0.17.2,>=0.14.0 in /usr/local/lib/python3.7/dist-packages (from jsonschema->ray[default]<1.14.0,>=1.13.0->flwr[simulation]) (0.18.1)\n",
            "Requirement already satisfied: importlib-resources>=1.4.0 in /usr/local/lib/python3.7/dist-packages (from jsonschema->ray[default]<1.14.0,>=1.13.0->flwr[simulation]) (5.10.0)\n",
            "Collecting opencensus-context>=0.1.3\n",
            "  Downloading opencensus_context-0.1.3-py2.py3-none-any.whl (5.1 kB)\n",
            "Requirement already satisfied: google-api-core<3.0.0,>=1.0.0 in /usr/local/lib/python3.7/dist-packages (from opencensus->ray[default]<1.14.0,>=1.13.0->flwr[simulation]) (1.31.6)\n",
            "Requirement already satisfied: googleapis-common-protos<2.0dev,>=1.6.0 in /usr/local/lib/python3.7/dist-packages (from google-api-core<3.0.0,>=1.0.0->opencensus->ray[default]<1.14.0,>=1.13.0->flwr[simulation]) (1.56.4)\n",
            "Requirement already satisfied: pytz in /usr/local/lib/python3.7/dist-packages (from google-api-core<3.0.0,>=1.0.0->opencensus->ray[default]<1.14.0,>=1.13.0->flwr[simulation]) (2022.4)\n",
            "Requirement already satisfied: setuptools>=40.3.0 in /usr/local/lib/python3.7/dist-packages (from google-api-core<3.0.0,>=1.0.0->opencensus->ray[default]<1.14.0,>=1.13.0->flwr[simulation]) (57.4.0)\n",
            "Requirement already satisfied: google-auth<2.0dev,>=1.25.0 in /usr/local/lib/python3.7/dist-packages (from google-api-core<3.0.0,>=1.0.0->opencensus->ray[default]<1.14.0,>=1.13.0->flwr[simulation]) (1.35.0)\n",
            "Requirement already satisfied: packaging>=14.3 in /usr/local/lib/python3.7/dist-packages (from google-api-core<3.0.0,>=1.0.0->opencensus->ray[default]<1.14.0,>=1.13.0->flwr[simulation]) (21.3)\n",
            "Requirement already satisfied: pyasn1-modules>=0.2.1 in /usr/local/lib/python3.7/dist-packages (from google-auth<2.0dev,>=1.25.0->google-api-core<3.0.0,>=1.0.0->opencensus->ray[default]<1.14.0,>=1.13.0->flwr[simulation]) (0.2.8)\n",
            "Requirement already satisfied: cachetools<5.0,>=2.0.0 in /usr/local/lib/python3.7/dist-packages (from google-auth<2.0dev,>=1.25.0->google-api-core<3.0.0,>=1.0.0->opencensus->ray[default]<1.14.0,>=1.13.0->flwr[simulation]) (4.2.4)\n",
            "Requirement already satisfied: rsa<5,>=3.1.4 in /usr/local/lib/python3.7/dist-packages (from google-auth<2.0dev,>=1.25.0->google-api-core<3.0.0,>=1.0.0->opencensus->ray[default]<1.14.0,>=1.13.0->flwr[simulation]) (4.9)\n",
            "Requirement already satisfied: pyparsing!=3.0.5,>=2.0.2 in /usr/local/lib/python3.7/dist-packages (from packaging>=14.3->google-api-core<3.0.0,>=1.0.0->opencensus->ray[default]<1.14.0,>=1.13.0->flwr[simulation]) (3.0.9)\n",
            "Requirement already satisfied: pyasn1<0.5.0,>=0.4.6 in /usr/local/lib/python3.7/dist-packages (from pyasn1-modules>=0.2.1->google-auth<2.0dev,>=1.25.0->google-api-core<3.0.0,>=1.0.0->opencensus->ray[default]<1.14.0,>=1.13.0->flwr[simulation]) (0.4.8)\n",
            "Requirement already satisfied: chardet<4,>=3.0.2 in /usr/local/lib/python3.7/dist-packages (from requests->ray[default]<1.14.0,>=1.13.0->flwr[simulation]) (3.0.4)\n",
            "Requirement already satisfied: urllib3!=1.25.0,!=1.25.1,<1.26,>=1.21.1 in /usr/local/lib/python3.7/dist-packages (from requests->ray[default]<1.14.0,>=1.13.0->flwr[simulation]) (1.24.3)\n",
            "Requirement already satisfied: certifi>=2017.4.17 in /usr/local/lib/python3.7/dist-packages (from requests->ray[default]<1.14.0,>=1.13.0->flwr[simulation]) (2022.9.24)\n",
            "Collecting distlib<1,>=0.3.5\n",
            "  Downloading distlib-0.3.6-py2.py3-none-any.whl (468 kB)\n",
            "\u001b[K     |████████████████████████████████| 468 kB 43.5 MB/s \n",
            "\u001b[?25hCollecting platformdirs<3,>=2.4\n",
            "  Downloading platformdirs-2.5.2-py3-none-any.whl (14 kB)\n",
            "Building wheels for collected packages: gpustat\n",
            "  Building wheel for gpustat (setup.py) ... \u001b[?25l\u001b[?25hdone\n",
            "  Created wheel for gpustat: filename=gpustat-1.0.0-py3-none-any.whl size=19889 sha256=455d0f6ea7b1e61d5b32c4f67946cc460e3a7537121b6162f1f634362657a084\n",
            "  Stored in directory: /root/.cache/pip/wheels/d2/31/5c/eb69af6e2285e7d6ec8d7dc26435be7c81c6ad22c45efdcca7\n",
            "Successfully built gpustat\n",
            "Installing collected packages: protobuf, platformdirs, distlib, virtualenv, psutil, opencensus-context, nvidia-ml-py, grpcio, blessed, ray, py-spy, prometheus-client, opencensus, iterators, gpustat, colorful, aiohttp-cors, flwr\n",
            "  Attempting uninstall: protobuf\n",
            "    Found existing installation: protobuf 3.17.3\n",
            "    Uninstalling protobuf-3.17.3:\n",
            "      Successfully uninstalled protobuf-3.17.3\n",
            "  Attempting uninstall: psutil\n",
            "    Found existing installation: psutil 5.4.8\n",
            "    Uninstalling psutil-5.4.8:\n",
            "      Successfully uninstalled psutil-5.4.8\n",
            "  Attempting uninstall: grpcio\n",
            "    Found existing installation: grpcio 1.49.1\n",
            "    Uninstalling grpcio-1.49.1:\n",
            "      Successfully uninstalled grpcio-1.49.1\n",
            "\u001b[31mERROR: pip's dependency resolver does not currently take into account all the packages that are installed. This behaviour is the source of the following dependency conflicts.\n",
            "tensorflow 2.9.2 requires protobuf<3.20,>=3.9.2, but you have protobuf 3.20.3 which is incompatible.\n",
            "tensorboard 2.9.1 requires protobuf<3.20,>=3.9.2, but you have protobuf 3.20.3 which is incompatible.\u001b[0m\n",
            "Successfully installed aiohttp-cors-0.7.0 blessed-1.19.1 colorful-0.5.4 distlib-0.3.6 flwr-1.0.0 gpustat-1.0.0 grpcio-1.43.0 iterators-0.0.2 nvidia-ml-py-11.495.46 opencensus-0.11.0 opencensus-context-0.1.3 platformdirs-2.5.2 prometheus-client-0.13.1 protobuf-3.20.3 psutil-5.9.3 py-spy-0.3.14 ray-1.13.0 virtualenv-20.16.5\n"
          ]
        },
        {
          "output_type": "display_data",
          "data": {
            "application/vnd.colab-display-data+json": {
              "pip_warning": {
                "packages": [
                  "google",
                  "psutil"
                ]
              }
            }
          },
          "metadata": {}
        }
      ],
      "source": [
        "!pip install flwr[\"simulation\"]"
      ]
    },
    {
      "cell_type": "code",
      "execution_count": null,
      "metadata": {
        "id": "VRA3QQyUKqDA",
        "colab": {
          "base_uri": "https://localhost:8080/"
        },
        "outputId": "28fa0af1-60ca-452f-aaec-908dc019b0a4"
      },
      "outputs": [
        {
          "output_type": "stream",
          "name": "stdout",
          "text": [
            "Looking in indexes: https://pypi.org/simple, https://us-python.pkg.dev/colab-wheels/public/simple/\n",
            "Collecting transformers\n",
            "  Downloading transformers-4.23.1-py3-none-any.whl (5.3 MB)\n",
            "\u001b[K     |████████████████████████████████| 5.3 MB 5.2 MB/s \n",
            "\u001b[?25hRequirement already satisfied: tqdm>=4.27 in /usr/local/lib/python3.7/dist-packages (from transformers) (4.64.1)\n",
            "Requirement already satisfied: packaging>=20.0 in /usr/local/lib/python3.7/dist-packages (from transformers) (21.3)\n",
            "Requirement already satisfied: regex!=2019.12.17 in /usr/local/lib/python3.7/dist-packages (from transformers) (2022.6.2)\n",
            "Requirement already satisfied: requests in /usr/local/lib/python3.7/dist-packages (from transformers) (2.23.0)\n",
            "Requirement already satisfied: filelock in /usr/local/lib/python3.7/dist-packages (from transformers) (3.8.0)\n",
            "Requirement already satisfied: pyyaml>=5.1 in /usr/local/lib/python3.7/dist-packages (from transformers) (6.0)\n",
            "Collecting huggingface-hub<1.0,>=0.10.0\n",
            "  Downloading huggingface_hub-0.10.1-py3-none-any.whl (163 kB)\n",
            "\u001b[K     |████████████████████████████████| 163 kB 64.7 MB/s \n",
            "\u001b[?25hRequirement already satisfied: numpy>=1.17 in /usr/local/lib/python3.7/dist-packages (from transformers) (1.21.6)\n",
            "Collecting tokenizers!=0.11.3,<0.14,>=0.11.1\n",
            "  Downloading tokenizers-0.13.1-cp37-cp37m-manylinux_2_17_x86_64.manylinux2014_x86_64.whl (7.6 MB)\n",
            "\u001b[K     |████████████████████████████████| 7.6 MB 37.7 MB/s \n",
            "\u001b[?25hRequirement already satisfied: importlib-metadata in /usr/local/lib/python3.7/dist-packages (from transformers) (4.13.0)\n",
            "Requirement already satisfied: typing-extensions>=3.7.4.3 in /usr/local/lib/python3.7/dist-packages (from huggingface-hub<1.0,>=0.10.0->transformers) (4.1.1)\n",
            "Requirement already satisfied: pyparsing!=3.0.5,>=2.0.2 in /usr/local/lib/python3.7/dist-packages (from packaging>=20.0->transformers) (3.0.9)\n",
            "Requirement already satisfied: zipp>=0.5 in /usr/local/lib/python3.7/dist-packages (from importlib-metadata->transformers) (3.9.0)\n",
            "Requirement already satisfied: idna<3,>=2.5 in /usr/local/lib/python3.7/dist-packages (from requests->transformers) (2.10)\n",
            "Requirement already satisfied: chardet<4,>=3.0.2 in /usr/local/lib/python3.7/dist-packages (from requests->transformers) (3.0.4)\n",
            "Requirement already satisfied: certifi>=2017.4.17 in /usr/local/lib/python3.7/dist-packages (from requests->transformers) (2022.9.24)\n",
            "Requirement already satisfied: urllib3!=1.25.0,!=1.25.1,<1.26,>=1.21.1 in /usr/local/lib/python3.7/dist-packages (from requests->transformers) (1.24.3)\n",
            "Installing collected packages: tokenizers, huggingface-hub, transformers\n",
            "Successfully installed huggingface-hub-0.10.1 tokenizers-0.13.1 transformers-4.23.1\n"
          ]
        }
      ],
      "source": [
        "!pip install transformers"
      ]
    },
    {
      "cell_type": "code",
      "execution_count": null,
      "metadata": {
        "id": "HU2YOBYDKrHm",
        "colab": {
          "base_uri": "https://localhost:8080/"
        },
        "outputId": "8691aa48-ae7a-487c-ac4c-244d0fc5ec04"
      },
      "outputs": [
        {
          "output_type": "stream",
          "name": "stdout",
          "text": [
            "Looking in indexes: https://pypi.org/simple, https://us-python.pkg.dev/colab-wheels/public/simple/\n",
            "Collecting datasets\n",
            "  Downloading datasets-2.6.1-py3-none-any.whl (441 kB)\n",
            "\u001b[K     |████████████████████████████████| 441 kB 5.3 MB/s \n",
            "\u001b[?25hRequirement already satisfied: importlib-metadata in /usr/local/lib/python3.7/dist-packages (from datasets) (4.13.0)\n",
            "Requirement already satisfied: tqdm>=4.62.1 in /usr/local/lib/python3.7/dist-packages (from datasets) (4.64.1)\n",
            "Collecting multiprocess\n",
            "  Downloading multiprocess-0.70.13-py37-none-any.whl (115 kB)\n",
            "\u001b[K     |████████████████████████████████| 115 kB 74.3 MB/s \n",
            "\u001b[?25hRequirement already satisfied: numpy>=1.17 in /usr/local/lib/python3.7/dist-packages (from datasets) (1.21.6)\n",
            "Requirement already satisfied: aiohttp in /usr/local/lib/python3.7/dist-packages (from datasets) (3.8.3)\n",
            "Collecting responses<0.19\n",
            "  Downloading responses-0.18.0-py3-none-any.whl (38 kB)\n",
            "Requirement already satisfied: fsspec[http]>=2021.11.1 in /usr/local/lib/python3.7/dist-packages (from datasets) (2022.8.2)\n",
            "Requirement already satisfied: packaging in /usr/local/lib/python3.7/dist-packages (from datasets) (21.3)\n",
            "Requirement already satisfied: requests>=2.19.0 in /usr/local/lib/python3.7/dist-packages (from datasets) (2.23.0)\n",
            "Requirement already satisfied: huggingface-hub<1.0.0,>=0.2.0 in /usr/local/lib/python3.7/dist-packages (from datasets) (0.10.1)\n",
            "Requirement already satisfied: pyyaml>=5.1 in /usr/local/lib/python3.7/dist-packages (from datasets) (6.0)\n",
            "Requirement already satisfied: pyarrow>=6.0.0 in /usr/local/lib/python3.7/dist-packages (from datasets) (6.0.1)\n",
            "Requirement already satisfied: dill<0.3.6 in /usr/local/lib/python3.7/dist-packages (from datasets) (0.3.5.1)\n",
            "Collecting xxhash\n",
            "  Downloading xxhash-3.1.0-cp37-cp37m-manylinux_2_17_x86_64.manylinux2014_x86_64.whl (212 kB)\n",
            "\u001b[K     |████████████████████████████████| 212 kB 58.1 MB/s \n",
            "\u001b[?25hRequirement already satisfied: pandas in /usr/local/lib/python3.7/dist-packages (from datasets) (1.3.5)\n",
            "Requirement already satisfied: yarl<2.0,>=1.0 in /usr/local/lib/python3.7/dist-packages (from aiohttp->datasets) (1.8.1)\n",
            "Requirement already satisfied: aiosignal>=1.1.2 in /usr/local/lib/python3.7/dist-packages (from aiohttp->datasets) (1.2.0)\n",
            "Requirement already satisfied: typing-extensions>=3.7.4 in /usr/local/lib/python3.7/dist-packages (from aiohttp->datasets) (4.1.1)\n",
            "Requirement already satisfied: async-timeout<5.0,>=4.0.0a3 in /usr/local/lib/python3.7/dist-packages (from aiohttp->datasets) (4.0.2)\n",
            "Requirement already satisfied: asynctest==0.13.0 in /usr/local/lib/python3.7/dist-packages (from aiohttp->datasets) (0.13.0)\n",
            "Requirement already satisfied: multidict<7.0,>=4.5 in /usr/local/lib/python3.7/dist-packages (from aiohttp->datasets) (6.0.2)\n",
            "Requirement already satisfied: attrs>=17.3.0 in /usr/local/lib/python3.7/dist-packages (from aiohttp->datasets) (22.1.0)\n",
            "Requirement already satisfied: charset-normalizer<3.0,>=2.0 in /usr/local/lib/python3.7/dist-packages (from aiohttp->datasets) (2.1.1)\n",
            "Requirement already satisfied: frozenlist>=1.1.1 in /usr/local/lib/python3.7/dist-packages (from aiohttp->datasets) (1.3.1)\n",
            "Requirement already satisfied: filelock in /usr/local/lib/python3.7/dist-packages (from huggingface-hub<1.0.0,>=0.2.0->datasets) (3.8.0)\n",
            "Requirement already satisfied: pyparsing!=3.0.5,>=2.0.2 in /usr/local/lib/python3.7/dist-packages (from packaging->datasets) (3.0.9)\n",
            "Requirement already satisfied: certifi>=2017.4.17 in /usr/local/lib/python3.7/dist-packages (from requests>=2.19.0->datasets) (2022.9.24)\n",
            "Requirement already satisfied: idna<3,>=2.5 in /usr/local/lib/python3.7/dist-packages (from requests>=2.19.0->datasets) (2.10)\n",
            "Requirement already satisfied: urllib3!=1.25.0,!=1.25.1,<1.26,>=1.21.1 in /usr/local/lib/python3.7/dist-packages (from requests>=2.19.0->datasets) (1.24.3)\n",
            "Requirement already satisfied: chardet<4,>=3.0.2 in /usr/local/lib/python3.7/dist-packages (from requests>=2.19.0->datasets) (3.0.4)\n",
            "Collecting urllib3!=1.25.0,!=1.25.1,<1.26,>=1.21.1\n",
            "  Downloading urllib3-1.25.11-py2.py3-none-any.whl (127 kB)\n",
            "\u001b[K     |████████████████████████████████| 127 kB 50.4 MB/s \n",
            "\u001b[?25hRequirement already satisfied: zipp>=0.5 in /usr/local/lib/python3.7/dist-packages (from importlib-metadata->datasets) (3.9.0)\n",
            "Requirement already satisfied: pytz>=2017.3 in /usr/local/lib/python3.7/dist-packages (from pandas->datasets) (2022.4)\n",
            "Requirement already satisfied: python-dateutil>=2.7.3 in /usr/local/lib/python3.7/dist-packages (from pandas->datasets) (2.8.2)\n",
            "Requirement already satisfied: six>=1.5 in /usr/local/lib/python3.7/dist-packages (from python-dateutil>=2.7.3->pandas->datasets) (1.15.0)\n",
            "Installing collected packages: urllib3, xxhash, responses, multiprocess, datasets\n",
            "  Attempting uninstall: urllib3\n",
            "    Found existing installation: urllib3 1.24.3\n",
            "    Uninstalling urllib3-1.24.3:\n",
            "      Successfully uninstalled urllib3-1.24.3\n",
            "Successfully installed datasets-2.6.1 multiprocess-0.70.13 responses-0.18.0 urllib3-1.25.11 xxhash-3.1.0\n"
          ]
        }
      ],
      "source": [
        "!pip install datasets"
      ]
    },
    {
      "cell_type": "markdown",
      "metadata": {
        "id": "H0svZ7BMRKao"
      },
      "source": [
        "## <a>Imports "
      ]
    },
    {
      "cell_type": "code",
      "execution_count": null,
      "metadata": {
        "id": "WN6inEZ4KzQw"
      },
      "outputs": [],
      "source": [
        "import random\n",
        "import pandas as pd\n",
        "import gdown\n",
        "\n",
        "import json\n",
        "import re\n",
        "import string \n",
        "\n",
        "from nltk.corpus import stopwords\n",
        "from nltk.tokenize import word_tokenize\n",
        "\n",
        "from collections import OrderedDict\n",
        "import warnings\n",
        "\n",
        "import flwr as fl\n",
        "import torch\n",
        "import numpy as np\n",
        "\n",
        "from torch.utils.data import DataLoader\n",
        "from datasets import load_dataset, load_metric, Dataset\n",
        "\n",
        "from transformers import AutoTokenizer, DataCollatorWithPadding\n",
        "from transformers import AutoModelForSequenceClassification\n",
        "from transformers import AdamW\n",
        "\n",
        "from sklearn.metrics import confusion_matrix, classification_report\n",
        "import matplotlib.pyplot as plt\n",
        "import seaborn as sns\n",
        "\n",
        "from sklearn.model_selection import train_test_split\n",
        "\n",
        "\n",
        "from scipy.special import softmax\n",
        "\n",
        "import csv\n",
        "import urllib.request\n",
        "\n",
        "import gc"
      ]
    },
    {
      "cell_type": "markdown",
      "metadata": {
        "id": "WyiZPxwdbU8x"
      },
      "source": [
        "> ## Dwonload the data from our Drive\n",
        "\n"
      ]
    },
    {
      "cell_type": "code",
      "execution_count": null,
      "metadata": {
        "colab": {
          "base_uri": "https://localhost:8080/"
        },
        "id": "CqrTpbpibA7b",
        "outputId": "d47693f3-522d-4b8c-f4bf-2b7617e13fcf"
      },
      "outputs": [
        {
          "output_type": "stream",
          "name": "stderr",
          "text": [
            "Retrieving folder list\n"
          ]
        },
        {
          "output_type": "stream",
          "name": "stdout",
          "text": [
            "Processing file 10jJiPSad7R-nOpUDHz0G9JFCt8FRJYml Karim_140K_es.csv\n",
            "Processing file 1K0Q2d8VgiJPvwkTbXgGD9eGaaYbANMcu Karim_300K_it.csv\n",
            "Processing file 1ATgspw32caK3EomNPa3DvQ51NiSf4VPQ Karim_450K_fr.csv\n",
            "Processing file 1Bi2v9_4Q0INv-CkYQk7Ofgehe7dPtktP Karim_620K_en.csv\n",
            "Processing file 1WVsf_YZLM11Wr8DDYlyUjxPQjpzCUDzk test_sentences.csv\n",
            "Building directory structure completed\n"
          ]
        },
        {
          "output_type": "stream",
          "name": "stderr",
          "text": [
            "Retrieving folder list completed\n",
            "Building directory structure\n",
            "Downloading...\n",
            "From: https://drive.google.com/uc?id=10jJiPSad7R-nOpUDHz0G9JFCt8FRJYml\n",
            "To: /content/Good_one/Karim_140K_es.csv\n",
            "100%|██████████| 22.6M/22.6M [00:00<00:00, 44.1MB/s]\n",
            "Downloading...\n",
            "From: https://drive.google.com/uc?id=1K0Q2d8VgiJPvwkTbXgGD9eGaaYbANMcu\n",
            "To: /content/Good_one/Karim_300K_it.csv\n",
            "100%|██████████| 54.6M/54.6M [00:00<00:00, 182MB/s]\n",
            "Downloading...\n",
            "From: https://drive.google.com/uc?id=1ATgspw32caK3EomNPa3DvQ51NiSf4VPQ\n",
            "To: /content/Good_one/Karim_450K_fr.csv\n",
            "100%|██████████| 84.6M/84.6M [00:00<00:00, 205MB/s]\n",
            "Downloading...\n",
            "From: https://drive.google.com/uc?id=1Bi2v9_4Q0INv-CkYQk7Ofgehe7dPtktP\n",
            "To: /content/Good_one/Karim_620K_en.csv\n",
            "100%|██████████| 93.4M/93.4M [00:00<00:00, 162MB/s]\n",
            "Downloading...\n",
            "From: https://drive.google.com/uc?id=1WVsf_YZLM11Wr8DDYlyUjxPQjpzCUDzk\n",
            "To: /content/Good_one/test_sentences.csv\n",
            "100%|██████████| 228/228 [00:00<00:00, 495kB/s]\n",
            "Download completed\n"
          ]
        },
        {
          "output_type": "execute_result",
          "data": {
            "text/plain": [
              "['/content/Good_one/Karim_140K_es.csv',\n",
              " '/content/Good_one/Karim_300K_it.csv',\n",
              " '/content/Good_one/Karim_450K_fr.csv',\n",
              " '/content/Good_one/Karim_620K_en.csv',\n",
              " '/content/Good_one/test_sentences.csv']"
            ]
          },
          "metadata": {},
          "execution_count": 2
        }
      ],
      "source": [
        "# url = \"https://drive.google.com/drive/folders/1vpMiGL4_bwguZO3hyZGMbz1v8pKTolmq?usp=sharing\"\n",
        "url = \"https://drive.google.com/drive/folders/1fbLZaQmwuRXYlx_wUsfsAiG18e_we_zC?usp=sharing\"\n",
        "gdown.download_folder(url)"
      ]
    },
    {
      "cell_type": "code",
      "execution_count": null,
      "metadata": {
        "id": "kHHQz-Slcbf4"
      },
      "outputs": [],
      "source": [
        "# read it by adding the headers\n",
        "# df = pd.read_csv(\"/content/folders_for_fun/140K_dataSet.csv\", header = None, names = ['Tweet', 'Label'])\n",
        "# df = pd.read_csv(\"/content/Good_one/Karim_620K_en.csv\")\n",
        "# ['/content/Good_one/Karim_140K_es.csv','/content/Good_one/Karim_300K_it.csv','/content/Good_one/Karim_450K_fr.csv','/content/Good_one/Karim_620K_en.csv']\n",
        "df = pd.concat(map(pd.read_csv, ['/content/Good_one/Karim_620K_en.csv']))"
      ]
    },
    {
      "cell_type": "code",
      "source": [
        "df"
      ],
      "metadata": {
        "colab": {
          "base_uri": "https://localhost:8080/",
          "height": 624
        },
        "id": "NhzREti_iY7v",
        "outputId": "00f85ea6-2b9e-49f9-f00f-838393be0485"
      },
      "execution_count": null,
      "outputs": [
        {
          "output_type": "execute_result",
          "data": {
            "text/plain": [
              "                                                    Tweet Label_2  Label  \\\n",
              "0       @mikedoubleu61 @Procasstinator_ @fut_fg I got ...       😂      2   \n",
              "1       @moomin_et He organized all that in 2 days wit...       😂      2   \n",
              "2           Mfs be arguing boobs or ass, like bro vibes 🔥       🔥      4   \n",
              "3       Nursing up on back muscles right now. Fortunat...       😁     16   \n",
              "4       @lynnnotglenn @B_TwentyThree @yalldkjay oh shi...       😜     19   \n",
              "...                                                   ...     ...    ...   \n",
              "623668                          … and thanksgiving… and 🎄       🎄     17   \n",
              "623669  Great play by Ward let’s go the story of killd...       🎄     17   \n",
              "623670  it’s a trap y’all don’t use your phone out of ...       🎄     17   \n",
              "623671  qui attend maria carey et son post insta \"xmas...       🎄     17   \n",
              "623672  The match was good as usual between those two....       🎄     17   \n",
              "\n",
              "                                            Tweet_cleaned  \n",
              "0       @mikedoubleu @procasstinator @futfg got gold c...  \n",
              "1               @moominet organized days hundreds let use  \n",
              "2                    mfs arguing boobs ass like bro vibes  \n",
              "3       nursing back muscles right fortunately exam no...  \n",
              "4       @lynnnotglenn @b twenty three @yalldkjay oh sh...  \n",
              "...                                                   ...  \n",
              "623668                                       thanksgiving  \n",
              "623669  great play ward let go story killdozer makes s...  \n",
              "623670  trap use phone case fuck supposed overwatch di...  \n",
              "623671  qui attend maria carey et son post insta xmas ...  \n",
              "623672  match good usual two happy wait thanksgiving s...  \n",
              "\n",
              "[623673 rows x 4 columns]"
            ],
            "text/html": [
              "\n",
              "  <div id=\"df-bb0fd413-24ac-47c5-b471-c2d8dc787f07\">\n",
              "    <div class=\"colab-df-container\">\n",
              "      <div>\n",
              "<style scoped>\n",
              "    .dataframe tbody tr th:only-of-type {\n",
              "        vertical-align: middle;\n",
              "    }\n",
              "\n",
              "    .dataframe tbody tr th {\n",
              "        vertical-align: top;\n",
              "    }\n",
              "\n",
              "    .dataframe thead th {\n",
              "        text-align: right;\n",
              "    }\n",
              "</style>\n",
              "<table border=\"1\" class=\"dataframe\">\n",
              "  <thead>\n",
              "    <tr style=\"text-align: right;\">\n",
              "      <th></th>\n",
              "      <th>Tweet</th>\n",
              "      <th>Label_2</th>\n",
              "      <th>Label</th>\n",
              "      <th>Tweet_cleaned</th>\n",
              "    </tr>\n",
              "  </thead>\n",
              "  <tbody>\n",
              "    <tr>\n",
              "      <th>0</th>\n",
              "      <td>@mikedoubleu61 @Procasstinator_ @fut_fg I got ...</td>\n",
              "      <td>😂</td>\n",
              "      <td>2</td>\n",
              "      <td>@mikedoubleu @procasstinator @futfg got gold c...</td>\n",
              "    </tr>\n",
              "    <tr>\n",
              "      <th>1</th>\n",
              "      <td>@moomin_et He organized all that in 2 days wit...</td>\n",
              "      <td>😂</td>\n",
              "      <td>2</td>\n",
              "      <td>@moominet organized days hundreds let use</td>\n",
              "    </tr>\n",
              "    <tr>\n",
              "      <th>2</th>\n",
              "      <td>Mfs be arguing boobs or ass, like bro vibes 🔥</td>\n",
              "      <td>🔥</td>\n",
              "      <td>4</td>\n",
              "      <td>mfs arguing boobs ass like bro vibes</td>\n",
              "    </tr>\n",
              "    <tr>\n",
              "      <th>3</th>\n",
              "      <td>Nursing up on back muscles right now. Fortunat...</td>\n",
              "      <td>😁</td>\n",
              "      <td>16</td>\n",
              "      <td>nursing back muscles right fortunately exam no...</td>\n",
              "    </tr>\n",
              "    <tr>\n",
              "      <th>4</th>\n",
              "      <td>@lynnnotglenn @B_TwentyThree @yalldkjay oh shi...</td>\n",
              "      <td>😜</td>\n",
              "      <td>19</td>\n",
              "      <td>@lynnnotglenn @b twenty three @yalldkjay oh sh...</td>\n",
              "    </tr>\n",
              "    <tr>\n",
              "      <th>...</th>\n",
              "      <td>...</td>\n",
              "      <td>...</td>\n",
              "      <td>...</td>\n",
              "      <td>...</td>\n",
              "    </tr>\n",
              "    <tr>\n",
              "      <th>623668</th>\n",
              "      <td>… and thanksgiving… and 🎄</td>\n",
              "      <td>🎄</td>\n",
              "      <td>17</td>\n",
              "      <td>thanksgiving</td>\n",
              "    </tr>\n",
              "    <tr>\n",
              "      <th>623669</th>\n",
              "      <td>Great play by Ward let’s go the story of killd...</td>\n",
              "      <td>🎄</td>\n",
              "      <td>17</td>\n",
              "      <td>great play ward let go story killdozer makes s...</td>\n",
              "    </tr>\n",
              "    <tr>\n",
              "      <th>623670</th>\n",
              "      <td>it’s a trap y’all don’t use your phone out of ...</td>\n",
              "      <td>🎄</td>\n",
              "      <td>17</td>\n",
              "      <td>trap use phone case fuck supposed overwatch di...</td>\n",
              "    </tr>\n",
              "    <tr>\n",
              "      <th>623671</th>\n",
              "      <td>qui attend maria carey et son post insta \"xmas...</td>\n",
              "      <td>🎄</td>\n",
              "      <td>17</td>\n",
              "      <td>qui attend maria carey et son post insta xmas ...</td>\n",
              "    </tr>\n",
              "    <tr>\n",
              "      <th>623672</th>\n",
              "      <td>The match was good as usual between those two....</td>\n",
              "      <td>🎄</td>\n",
              "      <td>17</td>\n",
              "      <td>match good usual two happy wait thanksgiving s...</td>\n",
              "    </tr>\n",
              "  </tbody>\n",
              "</table>\n",
              "<p>623673 rows × 4 columns</p>\n",
              "</div>\n",
              "      <button class=\"colab-df-convert\" onclick=\"convertToInteractive('df-bb0fd413-24ac-47c5-b471-c2d8dc787f07')\"\n",
              "              title=\"Convert this dataframe to an interactive table.\"\n",
              "              style=\"display:none;\">\n",
              "        \n",
              "  <svg xmlns=\"http://www.w3.org/2000/svg\" height=\"24px\"viewBox=\"0 0 24 24\"\n",
              "       width=\"24px\">\n",
              "    <path d=\"M0 0h24v24H0V0z\" fill=\"none\"/>\n",
              "    <path d=\"M18.56 5.44l.94 2.06.94-2.06 2.06-.94-2.06-.94-.94-2.06-.94 2.06-2.06.94zm-11 1L8.5 8.5l.94-2.06 2.06-.94-2.06-.94L8.5 2.5l-.94 2.06-2.06.94zm10 10l.94 2.06.94-2.06 2.06-.94-2.06-.94-.94-2.06-.94 2.06-2.06.94z\"/><path d=\"M17.41 7.96l-1.37-1.37c-.4-.4-.92-.59-1.43-.59-.52 0-1.04.2-1.43.59L10.3 9.45l-7.72 7.72c-.78.78-.78 2.05 0 2.83L4 21.41c.39.39.9.59 1.41.59.51 0 1.02-.2 1.41-.59l7.78-7.78 2.81-2.81c.8-.78.8-2.07 0-2.86zM5.41 20L4 18.59l7.72-7.72 1.47 1.35L5.41 20z\"/>\n",
              "  </svg>\n",
              "      </button>\n",
              "      \n",
              "  <style>\n",
              "    .colab-df-container {\n",
              "      display:flex;\n",
              "      flex-wrap:wrap;\n",
              "      gap: 12px;\n",
              "    }\n",
              "\n",
              "    .colab-df-convert {\n",
              "      background-color: #E8F0FE;\n",
              "      border: none;\n",
              "      border-radius: 50%;\n",
              "      cursor: pointer;\n",
              "      display: none;\n",
              "      fill: #1967D2;\n",
              "      height: 32px;\n",
              "      padding: 0 0 0 0;\n",
              "      width: 32px;\n",
              "    }\n",
              "\n",
              "    .colab-df-convert:hover {\n",
              "      background-color: #E2EBFA;\n",
              "      box-shadow: 0px 1px 2px rgba(60, 64, 67, 0.3), 0px 1px 3px 1px rgba(60, 64, 67, 0.15);\n",
              "      fill: #174EA6;\n",
              "    }\n",
              "\n",
              "    [theme=dark] .colab-df-convert {\n",
              "      background-color: #3B4455;\n",
              "      fill: #D2E3FC;\n",
              "    }\n",
              "\n",
              "    [theme=dark] .colab-df-convert:hover {\n",
              "      background-color: #434B5C;\n",
              "      box-shadow: 0px 1px 3px 1px rgba(0, 0, 0, 0.15);\n",
              "      filter: drop-shadow(0px 1px 2px rgba(0, 0, 0, 0.3));\n",
              "      fill: #FFFFFF;\n",
              "    }\n",
              "  </style>\n",
              "\n",
              "      <script>\n",
              "        const buttonEl =\n",
              "          document.querySelector('#df-bb0fd413-24ac-47c5-b471-c2d8dc787f07 button.colab-df-convert');\n",
              "        buttonEl.style.display =\n",
              "          google.colab.kernel.accessAllowed ? 'block' : 'none';\n",
              "\n",
              "        async function convertToInteractive(key) {\n",
              "          const element = document.querySelector('#df-bb0fd413-24ac-47c5-b471-c2d8dc787f07');\n",
              "          const dataTable =\n",
              "            await google.colab.kernel.invokeFunction('convertToInteractive',\n",
              "                                                     [key], {});\n",
              "          if (!dataTable) return;\n",
              "\n",
              "          const docLinkHtml = 'Like what you see? Visit the ' +\n",
              "            '<a target=\"_blank\" href=https://colab.research.google.com/notebooks/data_table.ipynb>data table notebook</a>'\n",
              "            + ' to learn more about interactive tables.';\n",
              "          element.innerHTML = '';\n",
              "          dataTable['output_type'] = 'display_data';\n",
              "          await google.colab.output.renderOutput(dataTable, element);\n",
              "          const docLink = document.createElement('div');\n",
              "          docLink.innerHTML = docLinkHtml;\n",
              "          element.appendChild(docLink);\n",
              "        }\n",
              "      </script>\n",
              "    </div>\n",
              "  </div>\n",
              "  "
            ]
          },
          "metadata": {},
          "execution_count": 4
        }
      ]
    },
    {
      "cell_type": "code",
      "execution_count": null,
      "metadata": {
        "colab": {
          "base_uri": "https://localhost:8080/"
        },
        "id": "iQ0Ktr0Wcg-T",
        "outputId": "ced20aa3-d3a2-424c-a964-b590ac0cc819"
      },
      "outputs": [
        {
          "output_type": "execute_result",
          "data": {
            "text/plain": [
              "Tweet            0\n",
              "Label_2          0\n",
              "Label            0\n",
              "Tweet_cleaned    0\n",
              "dtype: int64"
            ]
          },
          "metadata": {},
          "execution_count": 5
        }
      ],
      "source": [
        "# check any null values\n",
        "df.isnull().sum()"
      ]
    },
    {
      "cell_type": "code",
      "execution_count": null,
      "metadata": {
        "colab": {
          "base_uri": "https://localhost:8080/"
        },
        "id": "Zuqf7VKncvWk",
        "outputId": "450b8af5-63f4-48fb-8570-827eac1c7667"
      },
      "outputs": [
        {
          "output_type": "execute_result",
          "data": {
            "text/plain": [
              "Tweet            0\n",
              "Label_2          0\n",
              "Label            0\n",
              "Tweet_cleaned    0\n",
              "dtype: int64"
            ]
          },
          "metadata": {},
          "execution_count": 6
        }
      ],
      "source": [
        "df = df.dropna()\n",
        "df.isnull().sum()"
      ]
    },
    {
      "cell_type": "code",
      "source": [
        "#print how many duplicate rows in the dataframe\n",
        "print(df.duplicated('Tweet_cleaned').sum())"
      ],
      "metadata": {
        "colab": {
          "base_uri": "https://localhost:8080/"
        },
        "id": "W3o_wO32i-05",
        "outputId": "547bfe71-99d5-43e4-ecd8-99542efb9a16"
      },
      "execution_count": null,
      "outputs": [
        {
          "output_type": "stream",
          "name": "stdout",
          "text": [
            "0\n"
          ]
        }
      ]
    },
    {
      "cell_type": "code",
      "source": [
        "df = df.drop_duplicates('Tweet_cleaned')"
      ],
      "metadata": {
        "id": "xYIavtsTi1VU"
      },
      "execution_count": null,
      "outputs": []
    },
    {
      "cell_type": "code",
      "source": [
        "#print how many duplicate rows in the dataframe\n",
        "print(df.duplicated('Tweet_cleaned').sum())"
      ],
      "metadata": {
        "colab": {
          "base_uri": "https://localhost:8080/"
        },
        "id": "gGfBg3bGjDLo",
        "outputId": "c303962d-a96e-4a09-b506-b94e5a6b3b06"
      },
      "execution_count": null,
      "outputs": [
        {
          "output_type": "stream",
          "name": "stdout",
          "text": [
            "0\n"
          ]
        }
      ]
    },
    {
      "cell_type": "markdown",
      "metadata": {
        "id": "5GgWjkUOc1D6"
      },
      "source": [
        "> "
      ]
    },
    {
      "cell_type": "code",
      "execution_count": null,
      "metadata": {
        "id": "XBoHpbSMg22D"
      },
      "outputs": [],
      "source": [
        "# Mapping each emoji\n",
        "emoji_to_idx = {'❤': 0, '😍': 1, '😂': 2, '💕': 3,  '🔥': 4, '😊': 5, '😎': 6, '✨': 7, '💙': 8, '😘': 9, '📷': 10, '🇺🇸': 11, '☀': 12,\\\n",
        "\n",
        "                '💜': 13, '😉': 14,'💯': 15, '😁': 16, '🎄': 17, '📸': 18, '😜': 19}"
      ]
    },
    {
      "cell_type": "code",
      "execution_count": null,
      "metadata": {
        "id": "Pys6LlaXgPsn"
      },
      "outputs": [],
      "source": [
        "# We won't use this method but just in case you want to try it.\n",
        "def get_emoji(input_):\n",
        "  list_ = []\n",
        "  for i in range(20):\n",
        "    # print(list(emoji_to_idx.keys())[list(emoji_to_idx.values()).index(city_count.index[i])])\n",
        "    list_.append(list(emoji_to_idx.keys())[list(emoji_to_idx.values()).index(input_[i])])\n",
        "  return list_"
      ]
    },
    {
      "cell_type": "code",
      "execution_count": null,
      "metadata": {
        "id": "Fxek_QbzcxlD"
      },
      "outputs": [],
      "source": [
        "# To compare each emoji to each other before over-sampling\n",
        "def distribution_method(df_):\n",
        "\n",
        "  # in the column 'Label'\n",
        "  c_count  = df_['Label'].value_counts()\n",
        "  c_count = c_count[:,]\n",
        "  plt.figure(figsize=(12,5))\n",
        "  sns.barplot(c_count.index, c_count.values, alpha=0.8)\n",
        "  plt.title('The distribution for each class/Label')\n",
        "  # plt.ylabel('Number of Occurrences', fontsize=20)\n",
        "  plt.xlabel('Label', fontsize=20)\n",
        "  plt.show()"
      ]
    },
    {
      "cell_type": "code",
      "execution_count": null,
      "metadata": {
        "colab": {
          "base_uri": "https://localhost:8080/",
          "height": 367
        },
        "id": "RjCa0qmNf1Ac",
        "outputId": "5d775e91-14f3-4622-c0f4-9d49fcdb58d9"
      },
      "outputs": [
        {
          "output_type": "stream",
          "name": "stderr",
          "text": [
            "/usr/local/lib/python3.7/dist-packages/seaborn/_decorators.py:43: FutureWarning: Pass the following variables as keyword args: x, y. From version 0.12, the only valid positional argument will be `data`, and passing other arguments without an explicit keyword will result in an error or misinterpretation.\n",
            "  FutureWarning\n"
          ]
        },
        {
          "output_type": "display_data",
          "data": {
            "text/plain": [
              "<Figure size 864x360 with 1 Axes>"
            ],
            "image/png": "[encoded data removed]"
          },
          "metadata": {
            "needs_background": "light"
          }
        }
      ],
      "source": [
        "# you just need to call it\n",
        "distribution_method(df)"
      ]
    },
    {
      "cell_type": "markdown",
      "source": [
        "> ## <a> Random Oversampling Imbalanced Datasets"
      ],
      "metadata": {
        "id": "y92ggIQWG0Lg"
      }
    },
    {
      "cell_type": "markdown",
      "source": [
        "> Random oversampling involves randomly duplicating examples from the minority class and adding them to the training dataset."
      ],
      "metadata": {
        "id": "H3ehqbU-0htD"
      }
    },
    {
      "cell_type": "code",
      "source": [
        "from imblearn.over_sampling import RandomOverSampler"
      ],
      "metadata": {
        "id": "EkGz7fJeHjhU"
      },
      "execution_count": null,
      "outputs": []
    },
    {
      "cell_type": "code",
      "source": [
        "X = df['Tweet_cleaned'].values\n",
        "y = df[\"Label\"].values\n",
        "\n",
        "os = RandomOverSampler()\n",
        "\n",
        "X = X.reshape(-1,1)\n",
        "\n",
        "X, y = os.fit_resample(X, y)\n",
        "\n",
        "X = X.reshape(-1,)\n",
        "print('X shape : ', X.shape, '\\n')"
      ],
      "metadata": {
        "colab": {
          "base_uri": "https://localhost:8080/"
        },
        "id": "tqNpm7oFG33U",
        "outputId": "d2410a43-58f3-4f7e-fd50-b4f833ac43d0"
      },
      "execution_count": null,
      "outputs": [
        {
          "output_type": "stream",
          "name": "stdout",
          "text": [
            "X shape :  (4077760,) \n",
            "\n"
          ]
        }
      ]
    },
    {
      "cell_type": "code",
      "source": [
        "df = pd.DataFrame({'Tweet_cleaned': np.array(X), 'Label': np.array(y)}, columns=['Tweet_cleaned', 'Label'])"
      ],
      "metadata": {
        "id": "6O9XstGbH76d"
      },
      "execution_count": null,
      "outputs": []
    },
    {
      "cell_type": "code",
      "source": [
        "df"
      ],
      "metadata": {
        "colab": {
          "base_uri": "https://localhost:8080/",
          "height": 424
        },
        "id": "fGQvldyEIcO4",
        "outputId": "6869e5d8-e96e-4433-eae2-df32829fde1b"
      },
      "execution_count": null,
      "outputs": [
        {
          "output_type": "execute_result",
          "data": {
            "text/plain": [
              "                                             Tweet_cleaned  Label\n",
              "0        @mikedoubleu @procasstinator @futfg got gold c...      2\n",
              "1                @moominet organized days hundreds let use      2\n",
              "2                     mfs arguing boobs ass like bro vibes      4\n",
              "3        nursing back muscles right fortunately exam no...     16\n",
              "4        @lynnnotglenn @b twenty three @yalldkjay oh sh...     19\n",
              "...                                                    ...    ...\n",
              "4077755                               cost capstappen grip     19\n",
              "4077756                           cant contend im blocking     19\n",
              "4077757  love marriage love story nigga munch gon na ea...     19\n",
              "4077758  physics best science doesnt nonsensical proces...     19\n",
              "4077759  @tamarah jesus ke gwana born world ruled satan...     19\n",
              "\n",
              "[4077760 rows x 2 columns]"
            ],
            "text/html": [
              "\n",
              "  <div id=\"df-422aa347-a020-446b-84f2-50d9f0602f1f\">\n",
              "    <div class=\"colab-df-container\">\n",
              "      <div>\n",
              "<style scoped>\n",
              "    .dataframe tbody tr th:only-of-type {\n",
              "        vertical-align: middle;\n",
              "    }\n",
              "\n",
              "    .dataframe tbody tr th {\n",
              "        vertical-align: top;\n",
              "    }\n",
              "\n",
              "    .dataframe thead th {\n",
              "        text-align: right;\n",
              "    }\n",
              "</style>\n",
              "<table border=\"1\" class=\"dataframe\">\n",
              "  <thead>\n",
              "    <tr style=\"text-align: right;\">\n",
              "      <th></th>\n",
              "      <th>Tweet_cleaned</th>\n",
              "      <th>Label</th>\n",
              "    </tr>\n",
              "  </thead>\n",
              "  <tbody>\n",
              "    <tr>\n",
              "      <th>0</th>\n",
              "      <td>@mikedoubleu @procasstinator @futfg got gold c...</td>\n",
              "      <td>2</td>\n",
              "    </tr>\n",
              "    <tr>\n",
              "      <th>1</th>\n",
              "      <td>@moominet organized days hundreds let use</td>\n",
              "      <td>2</td>\n",
              "    </tr>\n",
              "    <tr>\n",
              "      <th>2</th>\n",
              "      <td>mfs arguing boobs ass like bro vibes</td>\n",
              "      <td>4</td>\n",
              "    </tr>\n",
              "    <tr>\n",
              "      <th>3</th>\n",
              "      <td>nursing back muscles right fortunately exam no...</td>\n",
              "      <td>16</td>\n",
              "    </tr>\n",
              "    <tr>\n",
              "      <th>4</th>\n",
              "      <td>@lynnnotglenn @b twenty three @yalldkjay oh sh...</td>\n",
              "      <td>19</td>\n",
              "    </tr>\n",
              "    <tr>\n",
              "      <th>...</th>\n",
              "      <td>...</td>\n",
              "      <td>...</td>\n",
              "    </tr>\n",
              "    <tr>\n",
              "      <th>4077755</th>\n",
              "      <td>cost capstappen grip</td>\n",
              "      <td>19</td>\n",
              "    </tr>\n",
              "    <tr>\n",
              "      <th>4077756</th>\n",
              "      <td>cant contend im blocking</td>\n",
              "      <td>19</td>\n",
              "    </tr>\n",
              "    <tr>\n",
              "      <th>4077757</th>\n",
              "      <td>love marriage love story nigga munch gon na ea...</td>\n",
              "      <td>19</td>\n",
              "    </tr>\n",
              "    <tr>\n",
              "      <th>4077758</th>\n",
              "      <td>physics best science doesnt nonsensical proces...</td>\n",
              "      <td>19</td>\n",
              "    </tr>\n",
              "    <tr>\n",
              "      <th>4077759</th>\n",
              "      <td>@tamarah jesus ke gwana born world ruled satan...</td>\n",
              "      <td>19</td>\n",
              "    </tr>\n",
              "  </tbody>\n",
              "</table>\n",
              "<p>4077760 rows × 2 columns</p>\n",
              "</div>\n",
              "      <button class=\"colab-df-convert\" onclick=\"convertToInteractive('df-422aa347-a020-446b-84f2-50d9f0602f1f')\"\n",
              "              title=\"Convert this dataframe to an interactive table.\"\n",
              "              style=\"display:none;\">\n",
              "        \n",
              "  <svg xmlns=\"http://www.w3.org/2000/svg\" height=\"24px\"viewBox=\"0 0 24 24\"\n",
              "       width=\"24px\">\n",
              "    <path d=\"M0 0h24v24H0V0z\" fill=\"none\"/>\n",
              "    <path d=\"M18.56 5.44l.94 2.06.94-2.06 2.06-.94-2.06-.94-.94-2.06-.94 2.06-2.06.94zm-11 1L8.5 8.5l.94-2.06 2.06-.94-2.06-.94L8.5 2.5l-.94 2.06-2.06.94zm10 10l.94 2.06.94-2.06 2.06-.94-2.06-.94-.94-2.06-.94 2.06-2.06.94z\"/><path d=\"M17.41 7.96l-1.37-1.37c-.4-.4-.92-.59-1.43-.59-.52 0-1.04.2-1.43.59L10.3 9.45l-7.72 7.72c-.78.78-.78 2.05 0 2.83L4 21.41c.39.39.9.59 1.41.59.51 0 1.02-.2 1.41-.59l7.78-7.78 2.81-2.81c.8-.78.8-2.07 0-2.86zM5.41 20L4 18.59l7.72-7.72 1.47 1.35L5.41 20z\"/>\n",
              "  </svg>\n",
              "      </button>\n",
              "      \n",
              "  <style>\n",
              "    .colab-df-container {\n",
              "      display:flex;\n",
              "      flex-wrap:wrap;\n",
              "      gap: 12px;\n",
              "    }\n",
              "\n",
              "    .colab-df-convert {\n",
              "      background-color: #E8F0FE;\n",
              "      border: none;\n",
              "      border-radius: 50%;\n",
              "      cursor: pointer;\n",
              "      display: none;\n",
              "      fill: #1967D2;\n",
              "      height: 32px;\n",
              "      padding: 0 0 0 0;\n",
              "      width: 32px;\n",
              "    }\n",
              "\n",
              "    .colab-df-convert:hover {\n",
              "      background-color: #E2EBFA;\n",
              "      box-shadow: 0px 1px 2px rgba(60, 64, 67, 0.3), 0px 1px 3px 1px rgba(60, 64, 67, 0.15);\n",
              "      fill: #174EA6;\n",
              "    }\n",
              "\n",
              "    [theme=dark] .colab-df-convert {\n",
              "      background-color: #3B4455;\n",
              "      fill: #D2E3FC;\n",
              "    }\n",
              "\n",
              "    [theme=dark] .colab-df-convert:hover {\n",
              "      background-color: #434B5C;\n",
              "      box-shadow: 0px 1px 3px 1px rgba(0, 0, 0, 0.15);\n",
              "      filter: drop-shadow(0px 1px 2px rgba(0, 0, 0, 0.3));\n",
              "      fill: #FFFFFF;\n",
              "    }\n",
              "  </style>\n",
              "\n",
              "      <script>\n",
              "        const buttonEl =\n",
              "          document.querySelector('#df-422aa347-a020-446b-84f2-50d9f0602f1f button.colab-df-convert');\n",
              "        buttonEl.style.display =\n",
              "          google.colab.kernel.accessAllowed ? 'block' : 'none';\n",
              "\n",
              "        async function convertToInteractive(key) {\n",
              "          const element = document.querySelector('#df-422aa347-a020-446b-84f2-50d9f0602f1f');\n",
              "          const dataTable =\n",
              "            await google.colab.kernel.invokeFunction('convertToInteractive',\n",
              "                                                     [key], {});\n",
              "          if (!dataTable) return;\n",
              "\n",
              "          const docLinkHtml = 'Like what you see? Visit the ' +\n",
              "            '<a target=\"_blank\" href=https://colab.research.google.com/notebooks/data_table.ipynb>data table notebook</a>'\n",
              "            + ' to learn more about interactive tables.';\n",
              "          element.innerHTML = '';\n",
              "          dataTable['output_type'] = 'display_data';\n",
              "          await google.colab.output.renderOutput(dataTable, element);\n",
              "          const docLink = document.createElement('div');\n",
              "          docLink.innerHTML = docLinkHtml;\n",
              "          element.appendChild(docLink);\n",
              "        }\n",
              "      </script>\n",
              "    </div>\n",
              "  </div>\n",
              "  "
            ]
          },
          "metadata": {},
          "execution_count": 17
        }
      ]
    },
    {
      "cell_type": "code",
      "source": [
        "distribution_method(df)"
      ],
      "metadata": {
        "colab": {
          "base_uri": "https://localhost:8080/",
          "height": 367
        },
        "id": "9zYLHcw7J5AB",
        "outputId": "d246d92e-1672-4932-ffee-9e3377445219"
      },
      "execution_count": null,
      "outputs": [
        {
          "output_type": "stream",
          "name": "stderr",
          "text": [
            "/usr/local/lib/python3.7/dist-packages/seaborn/_decorators.py:43: FutureWarning: Pass the following variables as keyword args: x, y. From version 0.12, the only valid positional argument will be `data`, and passing other arguments without an explicit keyword will result in an error or misinterpretation.\n",
            "  FutureWarning\n"
          ]
        },
        {
          "output_type": "display_data",
          "data": {
            "text/plain": [
              "<Figure size 864x360 with 1 Axes>"
            ],
            "image/png": "[encoded data removed]"
          },
          "metadata": {
            "needs_background": "light"
          }
        }
      ]
    },
    {
      "cell_type": "markdown",
      "metadata": {
        "id": "TyubJAaYsYxY"
      },
      "source": [
        "> ## Server & clients Data split"
      ]
    },
    {
      "cell_type": "markdown",
      "metadata": {
        "id": "b3q0QRqmssm_"
      },
      "source": [
        "> As you know in the federated systems we need to train the model on some data at first then train the rest of the data on the clients sys to make a good evaluation."
      ]
    },
    {
      "cell_type": "markdown",
      "metadata": {
        "id": "PS7uX72TukmA"
      },
      "source": [
        "> This method just for splitting , this is not the same ratio that will be trained by the model."
      ]
    },
    {
      "cell_type": "code",
      "execution_count": null,
      "metadata": {
        "id": "K5qdkxv4rzFe"
      },
      "outputs": [],
      "source": [
        "# this method just for splitting \n",
        "def splitting_method(df_, name1 ,name2, test_size = 0.5):\n",
        "  y = pd.DataFrame(df_, columns = [\"Label\"])  \n",
        "  X = pd.DataFrame(df_, columns = ['Tweet_cleaned'])\n",
        "\n",
        "  X_train, X_test ,y_train, y_test = train_test_split(X, y, test_size=test_size, shuffle=True, random_state=105)\n",
        "\n",
        "  df_t = pd.DataFrame(X_train, columns = ['Tweet_cleaned'])\n",
        "  df_yt = pd.DataFrame(y_train, columns = ['Label'])\n",
        "\n",
        "  train_data = pd.concat([df_t, df_yt], axis=1)\n",
        "  train_data.to_csv(name1+\".csv\", index = False,)\n",
        "\n",
        "  df_xtest = pd.DataFrame(X_test, columns = ['Tweet_cleaned'])\n",
        "  df_ytest = pd.DataFrame(y_test, columns = ['Label'])\n",
        "\n",
        "  test_data = pd.concat([df_xtest, df_ytest], axis=1)\n",
        "  # print(test_data.isnull().sum())\n",
        "  test_data.to_csv(name2+\".csv\", index = False,)\n",
        "\n",
        "  # return train_data\n",
        "  return test_data\n"
      ]
    },
    {
      "cell_type": "code",
      "execution_count": null,
      "metadata": {
        "colab": {
          "base_uri": "https://localhost:8080/",
          "height": 424
        },
        "id": "9WtgqTavvIMg",
        "outputId": "64e09a30-eed7-4e9f-953b-364b9d690814"
      },
      "outputs": [
        {
          "output_type": "execute_result",
          "data": {
            "text/plain": [
              "                                             Tweet_cleaned  Label\n",
              "603      keep mfs distance @egalita like piet mondrian ...      5\n",
              "2561178  savingfootballshirts findingfootballshirts foo...     11\n",
              "2476317                        world record holder nia ali     11\n",
              "3744538  almost impossible see ship snap photo anyone e...     18\n",
              "2234229  kien nature hourly nature nomaddream wonderlus...     10\n",
              "...                                                    ...    ...\n",
              "3266381  needed hear things every @sandibachom @greg ab...     15\n",
              "3610966   rams twitter rams house sale tix rams vs broncos     17\n",
              "3677546          work progress discord christmas card year     17\n",
              "829339             @jennyyylene silky smooth smell amazing      1\n",
              "223454   @juliancomeau congrats youre brand new owner s...      6\n",
              "\n",
              "[2038880 rows x 2 columns]"
            ],
            "text/html": [
              "\n",
              "  <div id=\"df-d666ecd4-b842-4e58-a1c4-cd17d121d627\">\n",
              "    <div class=\"colab-df-container\">\n",
              "      <div>\n",
              "<style scoped>\n",
              "    .dataframe tbody tr th:only-of-type {\n",
              "        vertical-align: middle;\n",
              "    }\n",
              "\n",
              "    .dataframe tbody tr th {\n",
              "        vertical-align: top;\n",
              "    }\n",
              "\n",
              "    .dataframe thead th {\n",
              "        text-align: right;\n",
              "    }\n",
              "</style>\n",
              "<table border=\"1\" class=\"dataframe\">\n",
              "  <thead>\n",
              "    <tr style=\"text-align: right;\">\n",
              "      <th></th>\n",
              "      <th>Tweet_cleaned</th>\n",
              "      <th>Label</th>\n",
              "    </tr>\n",
              "  </thead>\n",
              "  <tbody>\n",
              "    <tr>\n",
              "      <th>603</th>\n",
              "      <td>keep mfs distance @egalita like piet mondrian ...</td>\n",
              "      <td>5</td>\n",
              "    </tr>\n",
              "    <tr>\n",
              "      <th>2561178</th>\n",
              "      <td>savingfootballshirts findingfootballshirts foo...</td>\n",
              "      <td>11</td>\n",
              "    </tr>\n",
              "    <tr>\n",
              "      <th>2476317</th>\n",
              "      <td>world record holder nia ali</td>\n",
              "      <td>11</td>\n",
              "    </tr>\n",
              "    <tr>\n",
              "      <th>3744538</th>\n",
              "      <td>almost impossible see ship snap photo anyone e...</td>\n",
              "      <td>18</td>\n",
              "    </tr>\n",
              "    <tr>\n",
              "      <th>2234229</th>\n",
              "      <td>kien nature hourly nature nomaddream wonderlus...</td>\n",
              "      <td>10</td>\n",
              "    </tr>\n",
              "    <tr>\n",
              "      <th>...</th>\n",
              "      <td>...</td>\n",
              "      <td>...</td>\n",
              "    </tr>\n",
              "    <tr>\n",
              "      <th>3266381</th>\n",
              "      <td>needed hear things every @sandibachom @greg ab...</td>\n",
              "      <td>15</td>\n",
              "    </tr>\n",
              "    <tr>\n",
              "      <th>3610966</th>\n",
              "      <td>rams twitter rams house sale tix rams vs broncos</td>\n",
              "      <td>17</td>\n",
              "    </tr>\n",
              "    <tr>\n",
              "      <th>3677546</th>\n",
              "      <td>work progress discord christmas card year</td>\n",
              "      <td>17</td>\n",
              "    </tr>\n",
              "    <tr>\n",
              "      <th>829339</th>\n",
              "      <td>@jennyyylene silky smooth smell amazing</td>\n",
              "      <td>1</td>\n",
              "    </tr>\n",
              "    <tr>\n",
              "      <th>223454</th>\n",
              "      <td>@juliancomeau congrats youre brand new owner s...</td>\n",
              "      <td>6</td>\n",
              "    </tr>\n",
              "  </tbody>\n",
              "</table>\n",
              "<p>2038880 rows × 2 columns</p>\n",
              "</div>\n",
              "      <button class=\"colab-df-convert\" onclick=\"convertToInteractive('df-d666ecd4-b842-4e58-a1c4-cd17d121d627')\"\n",
              "              title=\"Convert this dataframe to an interactive table.\"\n",
              "              style=\"display:none;\">\n",
              "        \n",
              "  <svg xmlns=\"http://www.w3.org/2000/svg\" height=\"24px\"viewBox=\"0 0 24 24\"\n",
              "       width=\"24px\">\n",
              "    <path d=\"M0 0h24v24H0V0z\" fill=\"none\"/>\n",
              "    <path d=\"M18.56 5.44l.94 2.06.94-2.06 2.06-.94-2.06-.94-.94-2.06-.94 2.06-2.06.94zm-11 1L8.5 8.5l.94-2.06 2.06-.94-2.06-.94L8.5 2.5l-.94 2.06-2.06.94zm10 10l.94 2.06.94-2.06 2.06-.94-2.06-.94-.94-2.06-.94 2.06-2.06.94z\"/><path d=\"M17.41 7.96l-1.37-1.37c-.4-.4-.92-.59-1.43-.59-.52 0-1.04.2-1.43.59L10.3 9.45l-7.72 7.72c-.78.78-.78 2.05 0 2.83L4 21.41c.39.39.9.59 1.41.59.51 0 1.02-.2 1.41-.59l7.78-7.78 2.81-2.81c.8-.78.8-2.07 0-2.86zM5.41 20L4 18.59l7.72-7.72 1.47 1.35L5.41 20z\"/>\n",
              "  </svg>\n",
              "      </button>\n",
              "      \n",
              "  <style>\n",
              "    .colab-df-container {\n",
              "      display:flex;\n",
              "      flex-wrap:wrap;\n",
              "      gap: 12px;\n",
              "    }\n",
              "\n",
              "    .colab-df-convert {\n",
              "      background-color: #E8F0FE;\n",
              "      border: none;\n",
              "      border-radius: 50%;\n",
              "      cursor: pointer;\n",
              "      display: none;\n",
              "      fill: #1967D2;\n",
              "      height: 32px;\n",
              "      padding: 0 0 0 0;\n",
              "      width: 32px;\n",
              "    }\n",
              "\n",
              "    .colab-df-convert:hover {\n",
              "      background-color: #E2EBFA;\n",
              "      box-shadow: 0px 1px 2px rgba(60, 64, 67, 0.3), 0px 1px 3px 1px rgba(60, 64, 67, 0.15);\n",
              "      fill: #174EA6;\n",
              "    }\n",
              "\n",
              "    [theme=dark] .colab-df-convert {\n",
              "      background-color: #3B4455;\n",
              "      fill: #D2E3FC;\n",
              "    }\n",
              "\n",
              "    [theme=dark] .colab-df-convert:hover {\n",
              "      background-color: #434B5C;\n",
              "      box-shadow: 0px 1px 3px 1px rgba(0, 0, 0, 0.15);\n",
              "      filter: drop-shadow(0px 1px 2px rgba(0, 0, 0, 0.3));\n",
              "      fill: #FFFFFF;\n",
              "    }\n",
              "  </style>\n",
              "\n",
              "      <script>\n",
              "        const buttonEl =\n",
              "          document.querySelector('#df-d666ecd4-b842-4e58-a1c4-cd17d121d627 button.colab-df-convert');\n",
              "        buttonEl.style.display =\n",
              "          google.colab.kernel.accessAllowed ? 'block' : 'none';\n",
              "\n",
              "        async function convertToInteractive(key) {\n",
              "          const element = document.querySelector('#df-d666ecd4-b842-4e58-a1c4-cd17d121d627');\n",
              "          const dataTable =\n",
              "            await google.colab.kernel.invokeFunction('convertToInteractive',\n",
              "                                                     [key], {});\n",
              "          if (!dataTable) return;\n",
              "\n",
              "          const docLinkHtml = 'Like what you see? Visit the ' +\n",
              "            '<a target=\"_blank\" href=https://colab.research.google.com/notebooks/data_table.ipynb>data table notebook</a>'\n",
              "            + ' to learn more about interactive tables.';\n",
              "          element.innerHTML = '';\n",
              "          dataTable['output_type'] = 'display_data';\n",
              "          await google.colab.output.renderOutput(dataTable, element);\n",
              "          const docLink = document.createElement('div');\n",
              "          docLink.innerHTML = docLinkHtml;\n",
              "          element.appendChild(docLink);\n",
              "        }\n",
              "      </script>\n",
              "    </div>\n",
              "  </div>\n",
              "  "
            ]
          },
          "metadata": {},
          "execution_count": 20
        }
      ],
      "source": [
        "# you can call it :)\n",
        "splitting_method(df,'centralized_dataset','fedrated_dataset',test_size = 0.5)"
      ]
    },
    {
      "cell_type": "code",
      "execution_count": null,
      "metadata": {
        "id": "aiT-kFxZvJ-c"
      },
      "outputs": [],
      "source": [
        "df_c= pd.read_csv(\"/content/centralized_dataset.csv\")"
      ]
    },
    {
      "cell_type": "code",
      "source": [
        "df_c"
      ],
      "metadata": {
        "colab": {
          "base_uri": "https://localhost:8080/",
          "height": 424
        },
        "id": "Hx2TXKMtkDhG",
        "outputId": "16757774-395a-42ef-db19-00a5a563e6c8"
      },
      "execution_count": null,
      "outputs": [
        {
          "output_type": "execute_result",
          "data": {
            "text/plain": [
              "                                             Tweet_cleaned  Label\n",
              "0                  @astros love houstonian also love hated     19\n",
              "1                                                 ask shit     15\n",
              "2                                     @teemarty long johns     19\n",
              "3        dating life sux awkward phone call hinge dude ...      7\n",
              "4        got called racist white person family member c...      8\n",
              "...                                                    ...    ...\n",
              "2038875  use one tv set remember american got news ruli...     11\n",
              "2038876  follow omg pls really hope interact s members ...     12\n",
              "2038877                       ari @above tp forget uniform      9\n",
              "2038878  hey @walsh freedom listening latest us dem rem...     14\n",
              "2038879                                       hinata later     14\n",
              "\n",
              "[2038880 rows x 2 columns]"
            ],
            "text/html": [
              "\n",
              "  <div id=\"df-cce17c60-a4d2-4c83-99e4-e31ad80110dd\">\n",
              "    <div class=\"colab-df-container\">\n",
              "      <div>\n",
              "<style scoped>\n",
              "    .dataframe tbody tr th:only-of-type {\n",
              "        vertical-align: middle;\n",
              "    }\n",
              "\n",
              "    .dataframe tbody tr th {\n",
              "        vertical-align: top;\n",
              "    }\n",
              "\n",
              "    .dataframe thead th {\n",
              "        text-align: right;\n",
              "    }\n",
              "</style>\n",
              "<table border=\"1\" class=\"dataframe\">\n",
              "  <thead>\n",
              "    <tr style=\"text-align: right;\">\n",
              "      <th></th>\n",
              "      <th>Tweet_cleaned</th>\n",
              "      <th>Label</th>\n",
              "    </tr>\n",
              "  </thead>\n",
              "  <tbody>\n",
              "    <tr>\n",
              "      <th>0</th>\n",
              "      <td>@astros love houstonian also love hated</td>\n",
              "      <td>19</td>\n",
              "    </tr>\n",
              "    <tr>\n",
              "      <th>1</th>\n",
              "      <td>ask shit</td>\n",
              "      <td>15</td>\n",
              "    </tr>\n",
              "    <tr>\n",
              "      <th>2</th>\n",
              "      <td>@teemarty long johns</td>\n",
              "      <td>19</td>\n",
              "    </tr>\n",
              "    <tr>\n",
              "      <th>3</th>\n",
              "      <td>dating life sux awkward phone call hinge dude ...</td>\n",
              "      <td>7</td>\n",
              "    </tr>\n",
              "    <tr>\n",
              "      <th>4</th>\n",
              "      <td>got called racist white person family member c...</td>\n",
              "      <td>8</td>\n",
              "    </tr>\n",
              "    <tr>\n",
              "      <th>...</th>\n",
              "      <td>...</td>\n",
              "      <td>...</td>\n",
              "    </tr>\n",
              "    <tr>\n",
              "      <th>2038875</th>\n",
              "      <td>use one tv set remember american got news ruli...</td>\n",
              "      <td>11</td>\n",
              "    </tr>\n",
              "    <tr>\n",
              "      <th>2038876</th>\n",
              "      <td>follow omg pls really hope interact s members ...</td>\n",
              "      <td>12</td>\n",
              "    </tr>\n",
              "    <tr>\n",
              "      <th>2038877</th>\n",
              "      <td>ari @above tp forget uniform</td>\n",
              "      <td>9</td>\n",
              "    </tr>\n",
              "    <tr>\n",
              "      <th>2038878</th>\n",
              "      <td>hey @walsh freedom listening latest us dem rem...</td>\n",
              "      <td>14</td>\n",
              "    </tr>\n",
              "    <tr>\n",
              "      <th>2038879</th>\n",
              "      <td>hinata later</td>\n",
              "      <td>14</td>\n",
              "    </tr>\n",
              "  </tbody>\n",
              "</table>\n",
              "<p>2038880 rows × 2 columns</p>\n",
              "</div>\n",
              "      <button class=\"colab-df-convert\" onclick=\"convertToInteractive('df-cce17c60-a4d2-4c83-99e4-e31ad80110dd')\"\n",
              "              title=\"Convert this dataframe to an interactive table.\"\n",
              "              style=\"display:none;\">\n",
              "        \n",
              "  <svg xmlns=\"http://www.w3.org/2000/svg\" height=\"24px\"viewBox=\"0 0 24 24\"\n",
              "       width=\"24px\">\n",
              "    <path d=\"M0 0h24v24H0V0z\" fill=\"none\"/>\n",
              "    <path d=\"M18.56 5.44l.94 2.06.94-2.06 2.06-.94-2.06-.94-.94-2.06-.94 2.06-2.06.94zm-11 1L8.5 8.5l.94-2.06 2.06-.94-2.06-.94L8.5 2.5l-.94 2.06-2.06.94zm10 10l.94 2.06.94-2.06 2.06-.94-2.06-.94-.94-2.06-.94 2.06-2.06.94z\"/><path d=\"M17.41 7.96l-1.37-1.37c-.4-.4-.92-.59-1.43-.59-.52 0-1.04.2-1.43.59L10.3 9.45l-7.72 7.72c-.78.78-.78 2.05 0 2.83L4 21.41c.39.39.9.59 1.41.59.51 0 1.02-.2 1.41-.59l7.78-7.78 2.81-2.81c.8-.78.8-2.07 0-2.86zM5.41 20L4 18.59l7.72-7.72 1.47 1.35L5.41 20z\"/>\n",
              "  </svg>\n",
              "      </button>\n",
              "      \n",
              "  <style>\n",
              "    .colab-df-container {\n",
              "      display:flex;\n",
              "      flex-wrap:wrap;\n",
              "      gap: 12px;\n",
              "    }\n",
              "\n",
              "    .colab-df-convert {\n",
              "      background-color: #E8F0FE;\n",
              "      border: none;\n",
              "      border-radius: 50%;\n",
              "      cursor: pointer;\n",
              "      display: none;\n",
              "      fill: #1967D2;\n",
              "      height: 32px;\n",
              "      padding: 0 0 0 0;\n",
              "      width: 32px;\n",
              "    }\n",
              "\n",
              "    .colab-df-convert:hover {\n",
              "      background-color: #E2EBFA;\n",
              "      box-shadow: 0px 1px 2px rgba(60, 64, 67, 0.3), 0px 1px 3px 1px rgba(60, 64, 67, 0.15);\n",
              "      fill: #174EA6;\n",
              "    }\n",
              "\n",
              "    [theme=dark] .colab-df-convert {\n",
              "      background-color: #3B4455;\n",
              "      fill: #D2E3FC;\n",
              "    }\n",
              "\n",
              "    [theme=dark] .colab-df-convert:hover {\n",
              "      background-color: #434B5C;\n",
              "      box-shadow: 0px 1px 3px 1px rgba(0, 0, 0, 0.15);\n",
              "      filter: drop-shadow(0px 1px 2px rgba(0, 0, 0, 0.3));\n",
              "      fill: #FFFFFF;\n",
              "    }\n",
              "  </style>\n",
              "\n",
              "      <script>\n",
              "        const buttonEl =\n",
              "          document.querySelector('#df-cce17c60-a4d2-4c83-99e4-e31ad80110dd button.colab-df-convert');\n",
              "        buttonEl.style.display =\n",
              "          google.colab.kernel.accessAllowed ? 'block' : 'none';\n",
              "\n",
              "        async function convertToInteractive(key) {\n",
              "          const element = document.querySelector('#df-cce17c60-a4d2-4c83-99e4-e31ad80110dd');\n",
              "          const dataTable =\n",
              "            await google.colab.kernel.invokeFunction('convertToInteractive',\n",
              "                                                     [key], {});\n",
              "          if (!dataTable) return;\n",
              "\n",
              "          const docLinkHtml = 'Like what you see? Visit the ' +\n",
              "            '<a target=\"_blank\" href=https://colab.research.google.com/notebooks/data_table.ipynb>data table notebook</a>'\n",
              "            + ' to learn more about interactive tables.';\n",
              "          element.innerHTML = '';\n",
              "          dataTable['output_type'] = 'display_data';\n",
              "          await google.colab.output.renderOutput(dataTable, element);\n",
              "          const docLink = document.createElement('div');\n",
              "          docLink.innerHTML = docLinkHtml;\n",
              "          element.appendChild(docLink);\n",
              "        }\n",
              "      </script>\n",
              "    </div>\n",
              "  </div>\n",
              "  "
            ]
          },
          "metadata": {},
          "execution_count": 22
        }
      ]
    },
    {
      "cell_type": "code",
      "execution_count": null,
      "metadata": {
        "id": "9EPVRJHWxl89"
      },
      "outputs": [],
      "source": [
        "df_f = pd.read_csv(\"/content/fedrated_dataset.csv\")"
      ]
    },
    {
      "cell_type": "code",
      "source": [
        "df_f"
      ],
      "metadata": {
        "colab": {
          "base_uri": "https://localhost:8080/",
          "height": 424
        },
        "id": "ozSKlGXskG7x",
        "outputId": "5285bdac-92bb-403c-a10b-98be9c573d7e"
      },
      "execution_count": null,
      "outputs": [
        {
          "output_type": "execute_result",
          "data": {
            "text/plain": [
              "                                             Tweet_cleaned  Label\n",
              "0        keep mfs distance @egalita like piet mondrian ...      5\n",
              "1        savingfootballshirts findingfootballshirts foo...     11\n",
              "2                              world record holder nia ali     11\n",
              "3        almost impossible see ship snap photo anyone e...     18\n",
              "4        kien nature hourly nature nomaddream wonderlus...     10\n",
              "...                                                    ...    ...\n",
              "2038875  needed hear things every @sandibachom @greg ab...     15\n",
              "2038876   rams twitter rams house sale tix rams vs broncos     17\n",
              "2038877          work progress discord christmas card year     17\n",
              "2038878            @jennyyylene silky smooth smell amazing      1\n",
              "2038879  @juliancomeau congrats youre brand new owner s...      6\n",
              "\n",
              "[2038880 rows x 2 columns]"
            ],
            "text/html": [
              "\n",
              "  <div id=\"df-d9ef454f-c426-4782-b86f-fa8a75fc8747\">\n",
              "    <div class=\"colab-df-container\">\n",
              "      <div>\n",
              "<style scoped>\n",
              "    .dataframe tbody tr th:only-of-type {\n",
              "        vertical-align: middle;\n",
              "    }\n",
              "\n",
              "    .dataframe tbody tr th {\n",
              "        vertical-align: top;\n",
              "    }\n",
              "\n",
              "    .dataframe thead th {\n",
              "        text-align: right;\n",
              "    }\n",
              "</style>\n",
              "<table border=\"1\" class=\"dataframe\">\n",
              "  <thead>\n",
              "    <tr style=\"text-align: right;\">\n",
              "      <th></th>\n",
              "      <th>Tweet_cleaned</th>\n",
              "      <th>Label</th>\n",
              "    </tr>\n",
              "  </thead>\n",
              "  <tbody>\n",
              "    <tr>\n",
              "      <th>0</th>\n",
              "      <td>keep mfs distance @egalita like piet mondrian ...</td>\n",
              "      <td>5</td>\n",
              "    </tr>\n",
              "    <tr>\n",
              "      <th>1</th>\n",
              "      <td>savingfootballshirts findingfootballshirts foo...</td>\n",
              "      <td>11</td>\n",
              "    </tr>\n",
              "    <tr>\n",
              "      <th>2</th>\n",
              "      <td>world record holder nia ali</td>\n",
              "      <td>11</td>\n",
              "    </tr>\n",
              "    <tr>\n",
              "      <th>3</th>\n",
              "      <td>almost impossible see ship snap photo anyone e...</td>\n",
              "      <td>18</td>\n",
              "    </tr>\n",
              "    <tr>\n",
              "      <th>4</th>\n",
              "      <td>kien nature hourly nature nomaddream wonderlus...</td>\n",
              "      <td>10</td>\n",
              "    </tr>\n",
              "    <tr>\n",
              "      <th>...</th>\n",
              "      <td>...</td>\n",
              "      <td>...</td>\n",
              "    </tr>\n",
              "    <tr>\n",
              "      <th>2038875</th>\n",
              "      <td>needed hear things every @sandibachom @greg ab...</td>\n",
              "      <td>15</td>\n",
              "    </tr>\n",
              "    <tr>\n",
              "      <th>2038876</th>\n",
              "      <td>rams twitter rams house sale tix rams vs broncos</td>\n",
              "      <td>17</td>\n",
              "    </tr>\n",
              "    <tr>\n",
              "      <th>2038877</th>\n",
              "      <td>work progress discord christmas card year</td>\n",
              "      <td>17</td>\n",
              "    </tr>\n",
              "    <tr>\n",
              "      <th>2038878</th>\n",
              "      <td>@jennyyylene silky smooth smell amazing</td>\n",
              "      <td>1</td>\n",
              "    </tr>\n",
              "    <tr>\n",
              "      <th>2038879</th>\n",
              "      <td>@juliancomeau congrats youre brand new owner s...</td>\n",
              "      <td>6</td>\n",
              "    </tr>\n",
              "  </tbody>\n",
              "</table>\n",
              "<p>2038880 rows × 2 columns</p>\n",
              "</div>\n",
              "      <button class=\"colab-df-convert\" onclick=\"convertToInteractive('df-d9ef454f-c426-4782-b86f-fa8a75fc8747')\"\n",
              "              title=\"Convert this dataframe to an interactive table.\"\n",
              "              style=\"display:none;\">\n",
              "        \n",
              "  <svg xmlns=\"http://www.w3.org/2000/svg\" height=\"24px\"viewBox=\"0 0 24 24\"\n",
              "       width=\"24px\">\n",
              "    <path d=\"M0 0h24v24H0V0z\" fill=\"none\"/>\n",
              "    <path d=\"M18.56 5.44l.94 2.06.94-2.06 2.06-.94-2.06-.94-.94-2.06-.94 2.06-2.06.94zm-11 1L8.5 8.5l.94-2.06 2.06-.94-2.06-.94L8.5 2.5l-.94 2.06-2.06.94zm10 10l.94 2.06.94-2.06 2.06-.94-2.06-.94-.94-2.06-.94 2.06-2.06.94z\"/><path d=\"M17.41 7.96l-1.37-1.37c-.4-.4-.92-.59-1.43-.59-.52 0-1.04.2-1.43.59L10.3 9.45l-7.72 7.72c-.78.78-.78 2.05 0 2.83L4 21.41c.39.39.9.59 1.41.59.51 0 1.02-.2 1.41-.59l7.78-7.78 2.81-2.81c.8-.78.8-2.07 0-2.86zM5.41 20L4 18.59l7.72-7.72 1.47 1.35L5.41 20z\"/>\n",
              "  </svg>\n",
              "      </button>\n",
              "      \n",
              "  <style>\n",
              "    .colab-df-container {\n",
              "      display:flex;\n",
              "      flex-wrap:wrap;\n",
              "      gap: 12px;\n",
              "    }\n",
              "\n",
              "    .colab-df-convert {\n",
              "      background-color: #E8F0FE;\n",
              "      border: none;\n",
              "      border-radius: 50%;\n",
              "      cursor: pointer;\n",
              "      display: none;\n",
              "      fill: #1967D2;\n",
              "      height: 32px;\n",
              "      padding: 0 0 0 0;\n",
              "      width: 32px;\n",
              "    }\n",
              "\n",
              "    .colab-df-convert:hover {\n",
              "      background-color: #E2EBFA;\n",
              "      box-shadow: 0px 1px 2px rgba(60, 64, 67, 0.3), 0px 1px 3px 1px rgba(60, 64, 67, 0.15);\n",
              "      fill: #174EA6;\n",
              "    }\n",
              "\n",
              "    [theme=dark] .colab-df-convert {\n",
              "      background-color: #3B4455;\n",
              "      fill: #D2E3FC;\n",
              "    }\n",
              "\n",
              "    [theme=dark] .colab-df-convert:hover {\n",
              "      background-color: #434B5C;\n",
              "      box-shadow: 0px 1px 3px 1px rgba(0, 0, 0, 0.15);\n",
              "      filter: drop-shadow(0px 1px 2px rgba(0, 0, 0, 0.3));\n",
              "      fill: #FFFFFF;\n",
              "    }\n",
              "  </style>\n",
              "\n",
              "      <script>\n",
              "        const buttonEl =\n",
              "          document.querySelector('#df-d9ef454f-c426-4782-b86f-fa8a75fc8747 button.colab-df-convert');\n",
              "        buttonEl.style.display =\n",
              "          google.colab.kernel.accessAllowed ? 'block' : 'none';\n",
              "\n",
              "        async function convertToInteractive(key) {\n",
              "          const element = document.querySelector('#df-d9ef454f-c426-4782-b86f-fa8a75fc8747');\n",
              "          const dataTable =\n",
              "            await google.colab.kernel.invokeFunction('convertToInteractive',\n",
              "                                                     [key], {});\n",
              "          if (!dataTable) return;\n",
              "\n",
              "          const docLinkHtml = 'Like what you see? Visit the ' +\n",
              "            '<a target=\"_blank\" href=https://colab.research.google.com/notebooks/data_table.ipynb>data table notebook</a>'\n",
              "            + ' to learn more about interactive tables.';\n",
              "          element.innerHTML = '';\n",
              "          dataTable['output_type'] = 'display_data';\n",
              "          await google.colab.output.renderOutput(dataTable, element);\n",
              "          const docLink = document.createElement('div');\n",
              "          docLink.innerHTML = docLinkHtml;\n",
              "          element.appendChild(docLink);\n",
              "        }\n",
              "      </script>\n",
              "    </div>\n",
              "  </div>\n",
              "  "
            ]
          },
          "metadata": {},
          "execution_count": 24
        }
      ]
    },
    {
      "cell_type": "markdown",
      "metadata": {
        "id": "_9TGMSnc1iVj"
      },
      "source": [
        "> ### Split the server data for server training"
      ]
    },
    {
      "cell_type": "code",
      "execution_count": null,
      "metadata": {
        "id": "2f-JFApZ2m2P"
      },
      "outputs": [],
      "source": [
        "df_server = pd.read_csv(\"/content/centralized_dataset.csv\")"
      ]
    },
    {
      "cell_type": "code",
      "execution_count": null,
      "metadata": {
        "colab": {
          "base_uri": "https://localhost:8080/",
          "height": 424
        },
        "id": "uUYW0-_O0i3K",
        "outputId": "ac837a85-6439-43a7-c72e-789166884c2a"
      },
      "outputs": [
        {
          "output_type": "execute_result",
          "data": {
            "text/plain": [
              "                                             Tweet_cleaned  Label\n",
              "1605788   merry christmas incredible amp devoted community     17\n",
              "1084069  actress park sooyoung actor choo yooungwoo all...     18\n",
              "321926   fact lucy tim break eye contact noticed starin...      4\n",
              "1759165  ythey tackled eachother im gon na cry dnf fina...     17\n",
              "1269301  @jimtober promise @bt stwt super handsome love...     13\n",
              "...                                                    ...    ...\n",
              "25029    @adca dev @minis retrograde looking nice cant ...      5\n",
              "1707903                        tmg oh man reaction tea fix      5\n",
              "1911842  sinatfotos @sinat savier photography drakness ...     10\n",
              "1001606    @lockedbyki rt @collector crispy new years lust     17\n",
              "1017369  welcome go go go lets go engfa sportswear mgi ...     14\n",
              "\n",
              "[203888 rows x 2 columns]"
            ],
            "text/html": [
              "\n",
              "  <div id=\"df-2bf700bc-ac3b-4f8b-9d69-37874f8733db\">\n",
              "    <div class=\"colab-df-container\">\n",
              "      <div>\n",
              "<style scoped>\n",
              "    .dataframe tbody tr th:only-of-type {\n",
              "        vertical-align: middle;\n",
              "    }\n",
              "\n",
              "    .dataframe tbody tr th {\n",
              "        vertical-align: top;\n",
              "    }\n",
              "\n",
              "    .dataframe thead th {\n",
              "        text-align: right;\n",
              "    }\n",
              "</style>\n",
              "<table border=\"1\" class=\"dataframe\">\n",
              "  <thead>\n",
              "    <tr style=\"text-align: right;\">\n",
              "      <th></th>\n",
              "      <th>Tweet_cleaned</th>\n",
              "      <th>Label</th>\n",
              "    </tr>\n",
              "  </thead>\n",
              "  <tbody>\n",
              "    <tr>\n",
              "      <th>1605788</th>\n",
              "      <td>merry christmas incredible amp devoted community</td>\n",
              "      <td>17</td>\n",
              "    </tr>\n",
              "    <tr>\n",
              "      <th>1084069</th>\n",
              "      <td>actress park sooyoung actor choo yooungwoo all...</td>\n",
              "      <td>18</td>\n",
              "    </tr>\n",
              "    <tr>\n",
              "      <th>321926</th>\n",
              "      <td>fact lucy tim break eye contact noticed starin...</td>\n",
              "      <td>4</td>\n",
              "    </tr>\n",
              "    <tr>\n",
              "      <th>1759165</th>\n",
              "      <td>ythey tackled eachother im gon na cry dnf fina...</td>\n",
              "      <td>17</td>\n",
              "    </tr>\n",
              "    <tr>\n",
              "      <th>1269301</th>\n",
              "      <td>@jimtober promise @bt stwt super handsome love...</td>\n",
              "      <td>13</td>\n",
              "    </tr>\n",
              "    <tr>\n",
              "      <th>...</th>\n",
              "      <td>...</td>\n",
              "      <td>...</td>\n",
              "    </tr>\n",
              "    <tr>\n",
              "      <th>25029</th>\n",
              "      <td>@adca dev @minis retrograde looking nice cant ...</td>\n",
              "      <td>5</td>\n",
              "    </tr>\n",
              "    <tr>\n",
              "      <th>1707903</th>\n",
              "      <td>tmg oh man reaction tea fix</td>\n",
              "      <td>5</td>\n",
              "    </tr>\n",
              "    <tr>\n",
              "      <th>1911842</th>\n",
              "      <td>sinatfotos @sinat savier photography drakness ...</td>\n",
              "      <td>10</td>\n",
              "    </tr>\n",
              "    <tr>\n",
              "      <th>1001606</th>\n",
              "      <td>@lockedbyki rt @collector crispy new years lust</td>\n",
              "      <td>17</td>\n",
              "    </tr>\n",
              "    <tr>\n",
              "      <th>1017369</th>\n",
              "      <td>welcome go go go lets go engfa sportswear mgi ...</td>\n",
              "      <td>14</td>\n",
              "    </tr>\n",
              "  </tbody>\n",
              "</table>\n",
              "<p>203888 rows × 2 columns</p>\n",
              "</div>\n",
              "      <button class=\"colab-df-convert\" onclick=\"convertToInteractive('df-2bf700bc-ac3b-4f8b-9d69-37874f8733db')\"\n",
              "              title=\"Convert this dataframe to an interactive table.\"\n",
              "              style=\"display:none;\">\n",
              "        \n",
              "  <svg xmlns=\"http://www.w3.org/2000/svg\" height=\"24px\"viewBox=\"0 0 24 24\"\n",
              "       width=\"24px\">\n",
              "    <path d=\"M0 0h24v24H0V0z\" fill=\"none\"/>\n",
              "    <path d=\"M18.56 5.44l.94 2.06.94-2.06 2.06-.94-2.06-.94-.94-2.06-.94 2.06-2.06.94zm-11 1L8.5 8.5l.94-2.06 2.06-.94-2.06-.94L8.5 2.5l-.94 2.06-2.06.94zm10 10l.94 2.06.94-2.06 2.06-.94-2.06-.94-.94-2.06-.94 2.06-2.06.94z\"/><path d=\"M17.41 7.96l-1.37-1.37c-.4-.4-.92-.59-1.43-.59-.52 0-1.04.2-1.43.59L10.3 9.45l-7.72 7.72c-.78.78-.78 2.05 0 2.83L4 21.41c.39.39.9.59 1.41.59.51 0 1.02-.2 1.41-.59l7.78-7.78 2.81-2.81c.8-.78.8-2.07 0-2.86zM5.41 20L4 18.59l7.72-7.72 1.47 1.35L5.41 20z\"/>\n",
              "  </svg>\n",
              "      </button>\n",
              "      \n",
              "  <style>\n",
              "    .colab-df-container {\n",
              "      display:flex;\n",
              "      flex-wrap:wrap;\n",
              "      gap: 12px;\n",
              "    }\n",
              "\n",
              "    .colab-df-convert {\n",
              "      background-color: #E8F0FE;\n",
              "      border: none;\n",
              "      border-radius: 50%;\n",
              "      cursor: pointer;\n",
              "      display: none;\n",
              "      fill: #1967D2;\n",
              "      height: 32px;\n",
              "      padding: 0 0 0 0;\n",
              "      width: 32px;\n",
              "    }\n",
              "\n",
              "    .colab-df-convert:hover {\n",
              "      background-color: #E2EBFA;\n",
              "      box-shadow: 0px 1px 2px rgba(60, 64, 67, 0.3), 0px 1px 3px 1px rgba(60, 64, 67, 0.15);\n",
              "      fill: #174EA6;\n",
              "    }\n",
              "\n",
              "    [theme=dark] .colab-df-convert {\n",
              "      background-color: #3B4455;\n",
              "      fill: #D2E3FC;\n",
              "    }\n",
              "\n",
              "    [theme=dark] .colab-df-convert:hover {\n",
              "      background-color: #434B5C;\n",
              "      box-shadow: 0px 1px 3px 1px rgba(0, 0, 0, 0.15);\n",
              "      filter: drop-shadow(0px 1px 2px rgba(0, 0, 0, 0.3));\n",
              "      fill: #FFFFFF;\n",
              "    }\n",
              "  </style>\n",
              "\n",
              "      <script>\n",
              "        const buttonEl =\n",
              "          document.querySelector('#df-2bf700bc-ac3b-4f8b-9d69-37874f8733db button.colab-df-convert');\n",
              "        buttonEl.style.display =\n",
              "          google.colab.kernel.accessAllowed ? 'block' : 'none';\n",
              "\n",
              "        async function convertToInteractive(key) {\n",
              "          const element = document.querySelector('#df-2bf700bc-ac3b-4f8b-9d69-37874f8733db');\n",
              "          const dataTable =\n",
              "            await google.colab.kernel.invokeFunction('convertToInteractive',\n",
              "                                                     [key], {});\n",
              "          if (!dataTable) return;\n",
              "\n",
              "          const docLinkHtml = 'Like what you see? Visit the ' +\n",
              "            '<a target=\"_blank\" href=https://colab.research.google.com/notebooks/data_table.ipynb>data table notebook</a>'\n",
              "            + ' to learn more about interactive tables.';\n",
              "          element.innerHTML = '';\n",
              "          dataTable['output_type'] = 'display_data';\n",
              "          await google.colab.output.renderOutput(dataTable, element);\n",
              "          const docLink = document.createElement('div');\n",
              "          docLink.innerHTML = docLinkHtml;\n",
              "          element.appendChild(docLink);\n",
              "        }\n",
              "      </script>\n",
              "    </div>\n",
              "  </div>\n",
              "  "
            ]
          },
          "metadata": {},
          "execution_count": 26
        }
      ],
      "source": [
        "# you can call it :)\n",
        "splitting_method(df_server,'TrainServer','TestServer',0.1)"
      ]
    },
    {
      "cell_type": "markdown",
      "metadata": {
        "id": "j2RzMSczK8d1"
      },
      "source": [
        "> ### Split the federated data for clients training"
      ]
    },
    {
      "cell_type": "code",
      "execution_count": null,
      "metadata": {
        "id": "f_kbAuCIK8d1"
      },
      "outputs": [],
      "source": [
        "df_clients = pd.read_csv(\"/content/fedrated_dataset.csv\")"
      ]
    },
    {
      "cell_type": "code",
      "execution_count": null,
      "metadata": {
        "colab": {
          "base_uri": "https://localhost:8080/",
          "height": 424
        },
        "outputId": "42ca6a28-d0ab-44ce-f078-d71787cff2a6",
        "id": "alCAaPS2K8d1"
      },
      "outputs": [
        {
          "output_type": "execute_result",
          "data": {
            "text/plain": [
              "                                             Tweet_cleaned  Label\n",
              "1605788  fine thanks dave xx @hornydaddyjm tweet matche...      2\n",
              "1084069                                        morninggggg     12\n",
              "321926                                        believe hoge      7\n",
              "1759165                                   @aaaaaarrl thank     13\n",
              "1269301  rt @nighthawk crypto zoogz get get lost @monke...      6\n",
              "...                                                    ...    ...\n",
              "25029    crazy times ole girl must air malibu cos thirs...     19\n",
              "1707903                      like tweet say something nice      5\n",
              "1911842                                  akasa reply times      6\n",
              "1001606                                      @margyh awwww      1\n",
              "1017369                        amp matching pajamas season     17\n",
              "\n",
              "[203888 rows x 2 columns]"
            ],
            "text/html": [
              "\n",
              "  <div id=\"df-fddb8826-806e-4435-81a5-256b406d16c3\">\n",
              "    <div class=\"colab-df-container\">\n",
              "      <div>\n",
              "<style scoped>\n",
              "    .dataframe tbody tr th:only-of-type {\n",
              "        vertical-align: middle;\n",
              "    }\n",
              "\n",
              "    .dataframe tbody tr th {\n",
              "        vertical-align: top;\n",
              "    }\n",
              "\n",
              "    .dataframe thead th {\n",
              "        text-align: right;\n",
              "    }\n",
              "</style>\n",
              "<table border=\"1\" class=\"dataframe\">\n",
              "  <thead>\n",
              "    <tr style=\"text-align: right;\">\n",
              "      <th></th>\n",
              "      <th>Tweet_cleaned</th>\n",
              "      <th>Label</th>\n",
              "    </tr>\n",
              "  </thead>\n",
              "  <tbody>\n",
              "    <tr>\n",
              "      <th>1605788</th>\n",
              "      <td>fine thanks dave xx @hornydaddyjm tweet matche...</td>\n",
              "      <td>2</td>\n",
              "    </tr>\n",
              "    <tr>\n",
              "      <th>1084069</th>\n",
              "      <td>morninggggg</td>\n",
              "      <td>12</td>\n",
              "    </tr>\n",
              "    <tr>\n",
              "      <th>321926</th>\n",
              "      <td>believe hoge</td>\n",
              "      <td>7</td>\n",
              "    </tr>\n",
              "    <tr>\n",
              "      <th>1759165</th>\n",
              "      <td>@aaaaaarrl thank</td>\n",
              "      <td>13</td>\n",
              "    </tr>\n",
              "    <tr>\n",
              "      <th>1269301</th>\n",
              "      <td>rt @nighthawk crypto zoogz get get lost @monke...</td>\n",
              "      <td>6</td>\n",
              "    </tr>\n",
              "    <tr>\n",
              "      <th>...</th>\n",
              "      <td>...</td>\n",
              "      <td>...</td>\n",
              "    </tr>\n",
              "    <tr>\n",
              "      <th>25029</th>\n",
              "      <td>crazy times ole girl must air malibu cos thirs...</td>\n",
              "      <td>19</td>\n",
              "    </tr>\n",
              "    <tr>\n",
              "      <th>1707903</th>\n",
              "      <td>like tweet say something nice</td>\n",
              "      <td>5</td>\n",
              "    </tr>\n",
              "    <tr>\n",
              "      <th>1911842</th>\n",
              "      <td>akasa reply times</td>\n",
              "      <td>6</td>\n",
              "    </tr>\n",
              "    <tr>\n",
              "      <th>1001606</th>\n",
              "      <td>@margyh awwww</td>\n",
              "      <td>1</td>\n",
              "    </tr>\n",
              "    <tr>\n",
              "      <th>1017369</th>\n",
              "      <td>amp matching pajamas season</td>\n",
              "      <td>17</td>\n",
              "    </tr>\n",
              "  </tbody>\n",
              "</table>\n",
              "<p>203888 rows × 2 columns</p>\n",
              "</div>\n",
              "      <button class=\"colab-df-convert\" onclick=\"convertToInteractive('df-fddb8826-806e-4435-81a5-256b406d16c3')\"\n",
              "              title=\"Convert this dataframe to an interactive table.\"\n",
              "              style=\"display:none;\">\n",
              "        \n",
              "  <svg xmlns=\"http://www.w3.org/2000/svg\" height=\"24px\"viewBox=\"0 0 24 24\"\n",
              "       width=\"24px\">\n",
              "    <path d=\"M0 0h24v24H0V0z\" fill=\"none\"/>\n",
              "    <path d=\"M18.56 5.44l.94 2.06.94-2.06 2.06-.94-2.06-.94-.94-2.06-.94 2.06-2.06.94zm-11 1L8.5 8.5l.94-2.06 2.06-.94-2.06-.94L8.5 2.5l-.94 2.06-2.06.94zm10 10l.94 2.06.94-2.06 2.06-.94-2.06-.94-.94-2.06-.94 2.06-2.06.94z\"/><path d=\"M17.41 7.96l-1.37-1.37c-.4-.4-.92-.59-1.43-.59-.52 0-1.04.2-1.43.59L10.3 9.45l-7.72 7.72c-.78.78-.78 2.05 0 2.83L4 21.41c.39.39.9.59 1.41.59.51 0 1.02-.2 1.41-.59l7.78-7.78 2.81-2.81c.8-.78.8-2.07 0-2.86zM5.41 20L4 18.59l7.72-7.72 1.47 1.35L5.41 20z\"/>\n",
              "  </svg>\n",
              "      </button>\n",
              "      \n",
              "  <style>\n",
              "    .colab-df-container {\n",
              "      display:flex;\n",
              "      flex-wrap:wrap;\n",
              "      gap: 12px;\n",
              "    }\n",
              "\n",
              "    .colab-df-convert {\n",
              "      background-color: #E8F0FE;\n",
              "      border: none;\n",
              "      border-radius: 50%;\n",
              "      cursor: pointer;\n",
              "      display: none;\n",
              "      fill: #1967D2;\n",
              "      height: 32px;\n",
              "      padding: 0 0 0 0;\n",
              "      width: 32px;\n",
              "    }\n",
              "\n",
              "    .colab-df-convert:hover {\n",
              "      background-color: #E2EBFA;\n",
              "      box-shadow: 0px 1px 2px rgba(60, 64, 67, 0.3), 0px 1px 3px 1px rgba(60, 64, 67, 0.15);\n",
              "      fill: #174EA6;\n",
              "    }\n",
              "\n",
              "    [theme=dark] .colab-df-convert {\n",
              "      background-color: #3B4455;\n",
              "      fill: #D2E3FC;\n",
              "    }\n",
              "\n",
              "    [theme=dark] .colab-df-convert:hover {\n",
              "      background-color: #434B5C;\n",
              "      box-shadow: 0px 1px 3px 1px rgba(0, 0, 0, 0.15);\n",
              "      filter: drop-shadow(0px 1px 2px rgba(0, 0, 0, 0.3));\n",
              "      fill: #FFFFFF;\n",
              "    }\n",
              "  </style>\n",
              "\n",
              "      <script>\n",
              "        const buttonEl =\n",
              "          document.querySelector('#df-fddb8826-806e-4435-81a5-256b406d16c3 button.colab-df-convert');\n",
              "        buttonEl.style.display =\n",
              "          google.colab.kernel.accessAllowed ? 'block' : 'none';\n",
              "\n",
              "        async function convertToInteractive(key) {\n",
              "          const element = document.querySelector('#df-fddb8826-806e-4435-81a5-256b406d16c3');\n",
              "          const dataTable =\n",
              "            await google.colab.kernel.invokeFunction('convertToInteractive',\n",
              "                                                     [key], {});\n",
              "          if (!dataTable) return;\n",
              "\n",
              "          const docLinkHtml = 'Like what you see? Visit the ' +\n",
              "            '<a target=\"_blank\" href=https://colab.research.google.com/notebooks/data_table.ipynb>data table notebook</a>'\n",
              "            + ' to learn more about interactive tables.';\n",
              "          element.innerHTML = '';\n",
              "          dataTable['output_type'] = 'display_data';\n",
              "          await google.colab.output.renderOutput(dataTable, element);\n",
              "          const docLink = document.createElement('div');\n",
              "          docLink.innerHTML = docLinkHtml;\n",
              "          element.appendChild(docLink);\n",
              "        }\n",
              "      </script>\n",
              "    </div>\n",
              "  </div>\n",
              "  "
            ]
          },
          "metadata": {},
          "execution_count": 28
        }
      ],
      "source": [
        "# you can call it :)\n",
        "splitting_method(df_clients,'F1_Train_clients','F1_test_clients',0.1)"
      ]
    },
    {
      "cell_type": "markdown",
      "metadata": {
        "id": "0W3Kfejm3Pe_"
      },
      "source": [
        "# <a> 1. The start of the central training server"
      ]
    },
    {
      "cell_type": "markdown",
      "metadata": {
        "id": "OJoRyGWO3kms"
      },
      "source": [
        "> ### The Tokenizer for `Multilingual-MiniLM-L12-H384` model. "
      ]
    },
    {
      "cell_type": "code",
      "execution_count": null,
      "metadata": {
        "id": "P1hd1YLi2_xT"
      },
      "outputs": [],
      "source": [
        "warnings.filterwarnings(\"ignore\", category=UserWarning)\n",
        "DEVICE = torch.device(\"cuda:0\" if torch.cuda.is_available() else \"cpu\")\n",
        "# DEVICE = torch.device(\"cpu\")\n",
        "# CHECKPOINT = \"distilbert-base-uncased\"  # transformer model checkpoint\n",
        "# task='emoji'\n",
        "# CHECKPOINT = f\"cardiffnlp/twitter-roberta-base-{task}\"\n",
        "CHECKPOINT = \"microsoft/Multilingual-MiniLM-L12-H384\""
      ]
    },
    {
      "cell_type": "code",
      "source": [
        "DEVICE"
      ],
      "metadata": {
        "colab": {
          "base_uri": "https://localhost:8080/"
        },
        "id": "p2ZsiiwrGaog",
        "outputId": "7c3d5a8e-f63f-44f7-e230-598feb0b604d"
      },
      "execution_count": null,
      "outputs": [
        {
          "output_type": "execute_result",
          "data": {
            "text/plain": [
              "device(type='cpu')"
            ]
          },
          "metadata": {},
          "execution_count": 30
        }
      ]
    },
    {
      "cell_type": "code",
      "source": [
        "tokenizer = AutoTokenizer.from_pretrained(CHECKPOINT)"
      ],
      "metadata": {
        "colab": {
          "base_uri": "https://localhost:8080/",
          "height": 201,
          "referenced_widgets": [
            "7de812a1e5c94aceb13b71ec7bba698a",
            "7fad8d56976a4c2fb61f349a5a3f9129",
            "412d658e0f764acfa46ff2ec59407d5b",
            "d0b5eda35c02498c90a6ec3a6b8f92b5",
            "d6e2169e86d1440c8106fd032c3c2ceb",
            "84cbd37b27114833a82ce58476bd45e8",
            "036ddba25b7f4e0ab990a85b56b24177",
            "adab878c66b1491b9cc9e63f060998c3",
            "466a7eb2cc27443e8baae3edfd436090",
            "46dafcd88b04463ab781540577256754",
            "8569ead44b1a4b509905b5520caefdf7",
            "33dab7e4d4124c239e125c31c7bf358b",
            "9418f152233c4d73ae14a5705a66c05e",
            "d8071040befe4aaea89c7a8adf5db75c",
            "2eb62c871c484f5888951ee5ee314ac3",
            "1a2a9c7bb0854e3bb773d5b10d59e0c1",
            "93b066dfc14c4685a3a282406ff9abed",
            "a6977aa409ae4dcfbeb91bde1fef16ee",
            "3be90444401c4362a011b4b0b3a61e24",
            "720bddbafadc469abeb1ade33eb45c7a",
            "7d61b78b6edf4b63a0bf615a1e6250ad",
            "4ce4ce22cb6449d7beeb85eb420e7c77",
            "8efb850cecf748bab0a46ebb34286b96",
            "a38e9e5029064cefa3ac97fecbf12816",
            "afb4d847ee8045b2a94642a09f1ef564",
            "bb213c6e6b74439687445c0ef9f4050c",
            "d3c22f91b8fc4caa9d47ecf4efab1d46",
            "816744ddc5fc477ba9081143c3e057b7",
            "7b62cbc7cc0648f99202984486f6fd29",
            "c75ebf298b19468cafbc4a9e2705c505",
            "95346ad1523a492e858838bbf1165912",
            "ba95aec819df4a74bee910c8de75a2b7",
            "1d66323d975441c0b9942b1bbe27c0b8",
            "bf4016a8cbca4270bf959527949f1160",
            "8c003f644ccd4d51bcb0cc1e3817b684",
            "6e0834ae928f4df0a55b99e04caa1961",
            "81fe13ab093547489440c17dfdb4ee17",
            "cabfea72a88546e1b67c3bb1487cdcd5",
            "75fef6c9f40d4a01ad421290ad5c47bb",
            "fd40f2011cf348e283e0949a3b7d24ee",
            "b15c38b3698849e6b316ed0afadf4090",
            "eae6f927dec54765854a911da37e335b",
            "85f1e7aa87624a4ab9028c662f67ec18",
            "8ddb6970b09d4837b5de33cf61ab66e7"
          ]
        },
        "id": "_Sbf46mBlAUV",
        "outputId": "51e4cd4f-1e29-4a9b-8b36-f426046b7b17"
      },
      "execution_count": null,
      "outputs": [
        {
          "output_type": "display_data",
          "data": {
            "text/plain": [
              "Downloading:   0%|          | 0.00/29.0 [00:00<?, ?B/s]"
            ],
            "application/vnd.jupyter.widget-view+json": {
              "version_major": 2,
              "version_minor": 0,
              "model_id": "7de812a1e5c94aceb13b71ec7bba698a"
            }
          },
          "metadata": {}
        },
        {
          "output_type": "display_data",
          "data": {
            "text/plain": [
              "Downloading:   0%|          | 0.00/625 [00:00<?, ?B/s]"
            ],
            "application/vnd.jupyter.widget-view+json": {
              "version_major": 2,
              "version_minor": 0,
              "model_id": "33dab7e4d4124c239e125c31c7bf358b"
            }
          },
          "metadata": {}
        },
        {
          "output_type": "display_data",
          "data": {
            "text/plain": [
              "Downloading:   0%|          | 0.00/996k [00:00<?, ?B/s]"
            ],
            "application/vnd.jupyter.widget-view+json": {
              "version_major": 2,
              "version_minor": 0,
              "model_id": "8efb850cecf748bab0a46ebb34286b96"
            }
          },
          "metadata": {}
        },
        {
          "output_type": "display_data",
          "data": {
            "text/plain": [
              "Downloading:   0%|          | 0.00/1.96M [00:00<?, ?B/s]"
            ],
            "application/vnd.jupyter.widget-view+json": {
              "version_major": 2,
              "version_minor": 0,
              "model_id": "bf4016a8cbca4270bf959527949f1160"
            }
          },
          "metadata": {}
        }
      ]
    },
    {
      "cell_type": "code",
      "source": [
        "# method to load our data \n",
        "def load_data(A_train, A_test):\n",
        "\n",
        "    # raw_datasets = load_dataset(\"csv\", data_files=\"/content/emojify_data.csv\")\n",
        "    raw_datasets = load_dataset(\"csv\", data_files={\"train\": A_train, \"test\": A_test})\n",
        "    raw_datasets = raw_datasets.shuffle(seed=42)\n",
        "\n",
        "    # # remove unnecessary data split\n",
        "    # del raw_datasets[\"unsupervised\"]\n",
        "\n",
        "    tokenizer = AutoTokenizer.from_pretrained(CHECKPOINT)\n",
        "\n",
        "    def tokenize_function(examples):\n",
        "        return tokenizer(examples[\"Tweet_cleaned\"], truncation=True)\n",
        "\n",
        "\n",
        "    # population_train = random.sample(range(len(raw_datasets[\"train\"])), raw_datasets['train'].num_rows)\n",
        "    # population_test = random.sample(range(len(raw_datasets[\"test\"])), raw_datasets['test'].num_rows)\n",
        "\n",
        "    # Note : Before we train our model on the whole data, for simplicity's sake, you can only train it on 3000 records or less.\n",
        "\n",
        "    # random 100 samples\n",
        "    population_train = random.sample(range(len(raw_datasets[\"train\"])), 1000)\n",
        "    population_test = random.sample(range(len(raw_datasets[\"test\"])), 100)\n",
        "\n",
        "    tokenized_datasets = raw_datasets.map(tokenize_function, batched=True)\n",
        "\n",
        "    tokenized_datasets[\"train\"] = tokenized_datasets[\"train\"].select(population_train)\n",
        "    tokenized_datasets[\"test\"] = tokenized_datasets[\"test\"].select(population_test)\n",
        "\n",
        "    tokenized_datasets = tokenized_datasets.remove_columns([\"Tweet_cleaned\"])\n",
        "    tokenized_datasets = tokenized_datasets.rename_column(\"Label\", \"labels\")\n",
        "\n",
        "    data_collator = DataCollatorWithPadding(tokenizer=tokenizer)\n",
        "\n",
        "    trainloader = DataLoader(\n",
        "        tokenized_datasets[\"train\"],\n",
        "        shuffle=True,\n",
        "        batch_size=24,\n",
        "        collate_fn=data_collator,\n",
        "    )\n",
        "\n",
        "\n",
        "    testloader = DataLoader(\n",
        "        tokenized_datasets[\"test\"], batch_size=24, collate_fn=data_collator\n",
        "    )\n",
        "\n",
        "    return trainloader, testloader"
      ],
      "metadata": {
        "id": "QOoNwkSyKzyh"
      },
      "execution_count": null,
      "outputs": []
    },
    {
      "cell_type": "markdown",
      "source": [
        "> Train and test loader for server/centralized data."
      ],
      "metadata": {
        "id": "F24D06071p1Q"
      }
    },
    {
      "cell_type": "code",
      "source": [
        "trainloader_s , testloader_s = load_data(\"/content/TrainServer.csv\",\"/content/TestServer.csv\")"
      ],
      "metadata": {
        "colab": {
          "base_uri": "https://localhost:8080/",
          "height": 277,
          "referenced_widgets": [
            "282a96145bf94d3fb380037c196ae28d",
            "76f5aa80d2bf4071a9c6ee41c343995d",
            "c0d9bc54a7a24997bc16ffb5b43baa85",
            "40ce69763bdd4a82a5dbfee317363331",
            "b8ba5b074c6244aea91a2c4102425bba",
            "8664255114db4f61adf669372456f9f3",
            "156bd126dcdb4bbd9b8a309550a514f3",
            "355a28066a124db59fd2b14e557bc7c4",
            "58dcd97f69974344a49b8d15d9b2bade",
            "4060ca7d3f1948a1a4b671b4ac790a62",
            "ae04579fedfa4d7f989da12b7f5905c8",
            "352b5b5de64c4ec6a1bec1b0f4428a1a",
            "9010ca4b26054902be7535d1f7cb872b",
            "deea1bff2ad24ed8920d7f17cea56d85",
            "2da0852020c044aca010ed40fd4a2b7a",
            "8dd5d01191c445989ba1cdcceb071417",
            "56764a779674401291131f27a02b6637",
            "264d6c052ac549a49c40ec15e616cfbb",
            "002787c9ca824f6eb61e9890bc8c117a",
            "3c51340dd38a4d9bbd14bdcbdefdc7ca",
            "6c1ae4260d264f1bb7d969753e586a55",
            "4011bd98b6924bcf90177b760a2317c8",
            "c6042b0faa51468c8db192d5de19ce21",
            "762e17deff114c4babfa948c4591f9d8",
            "4ebd374715784d2cbfc9ea6cf5637747",
            "f6bf30046ac2439e9ada5f114a63cf86",
            "552c091aae6c4b1abcebcbf31ecb6702",
            "89e97d946abb44629bbfddf65ca26ac0",
            "7eb9e0b40c494c25a22989fa2688cb17",
            "69d1f96be0d7469bb0a70495dc8277c5",
            "e61419d9b3534620a349940449e0eee4",
            "8b868547ab4f4d17b247c5786c956515",
            "7ea2d69f850a40a4a375a5c5d348988d",
            "71a00c8d86744f9dbbd6f84d061f8fec",
            "ddddbce1d9594be8b34763585f21b3be",
            "db8a0818391f4380a724b57f296005fe",
            "b75e97ae7d474d14ac123d1edc6c4d3a",
            "cfcbf3e4632247dc8a7e47778cddb78f",
            "2f4de230673a4530a720e8601f1195ec",
            "9273fafbe1ac4caa81cb106668d777c4",
            "4b6d3fd16a9b4a1782c35086b74eed34",
            "da0bac7187e849d8910d15a01a19f3d4",
            "91df3e6c51d0410c862a6fd62111e252",
            "21b26fe13b954fc0ad44b0784232dd6b",
            "01f6b24b3eb34962a1ad4b67f21e99ee",
            "c23c6cb3d3a74e238db17a01eae9498c",
            "74a6e07febd844589a8c018274cbb019",
            "ba3ca5250a6c4c729b416eed0daed159",
            "9e871d19288d42c1b573207b5277686e",
            "379508025dad4bc1abb1fca99fc7d905",
            "ee2372c8ffa64c38b15e0ac9b7a9dab3",
            "f034e9a1714842e79597f4b19f33230e",
            "39fc7c3ab77c4b789c25c0c77f680bbe",
            "c0127c7bd2564e52996610fe19c9c3f4",
            "6e499fc0a4ad444a96cda18ff2291ad9",
            "1ad2915b4097438096af58c31ec07739",
            "3c1d517f0b274cddaf77497da151faa6",
            "777e8a02348e457896d19be3e98e5d15",
            "016b09fc2277486ea96fd9c6a5bc3062",
            "b59827746031437e8c48ac7225deb5d7",
            "6214628032f8444c87198a70326f2802",
            "55633e4696d240c59f32ec7ff82c66f5",
            "f3423819a4b546358f9c583bd14b777b",
            "100480443e3b408487998fdfe4211846",
            "2d0d7b0934584ce991d28f97fe8a7a76",
            "f76d82d2ee564f669673f84f6da600ed",
            "03cbbf52255c495d9be6c0e9bfd65ebb",
            "ce2b4afe6f6f46bd92507a437de042a3",
            "98c3ce19c23a4d4d8f844809da23f872",
            "af90c18b05ac40fdbf4603060f250dd8",
            "6cf4459782da408c9b7e6ff12a5a2ad5",
            "4557ce9f770446c49929e95f90ce1b6b",
            "f6c843cfc82e49a69f2e78de5de9be31",
            "02b56adf7fd44898a85cb7c8188e7735",
            "14431cc5565a4de8af1026353e9d8b14",
            "f379c7b3603a4e96a416ccc37229736a",
            "84538be5ec764db6807cf65679b97336"
          ]
        },
        "id": "xSXtKLWXNyjM",
        "outputId": "b937b224-a50d-4072-bd77-7cf11ab41647"
      },
      "execution_count": null,
      "outputs": [
        {
          "output_type": "stream",
          "name": "stderr",
          "text": [
            "WARNING:datasets.builder:Using custom data configuration default-fa428c5ad7f1a70d\n"
          ]
        },
        {
          "output_type": "stream",
          "name": "stdout",
          "text": [
            "Downloading and preparing dataset csv/default to /root/.cache/huggingface/datasets/csv/default-fa428c5ad7f1a70d/0.0.0/6b34fb8fcf56f7c8ba51dc895bfa2bfbe43546f190a60fcf74bb5e8afdcc2317...\n"
          ]
        },
        {
          "output_type": "display_data",
          "data": {
            "text/plain": [
              "Downloading data files:   0%|          | 0/2 [00:00<?, ?it/s]"
            ],
            "application/vnd.jupyter.widget-view+json": {
              "version_major": 2,
              "version_minor": 0,
              "model_id": "282a96145bf94d3fb380037c196ae28d"
            }
          },
          "metadata": {}
        },
        {
          "output_type": "display_data",
          "data": {
            "text/plain": [
              "Extracting data files:   0%|          | 0/2 [00:00<?, ?it/s]"
            ],
            "application/vnd.jupyter.widget-view+json": {
              "version_major": 2,
              "version_minor": 0,
              "model_id": "352b5b5de64c4ec6a1bec1b0f4428a1a"
            }
          },
          "metadata": {}
        },
        {
          "output_type": "display_data",
          "data": {
            "text/plain": [
              "0 tables [00:00, ? tables/s]"
            ],
            "application/vnd.jupyter.widget-view+json": {
              "version_major": 2,
              "version_minor": 0,
              "model_id": "c6042b0faa51468c8db192d5de19ce21"
            }
          },
          "metadata": {}
        },
        {
          "output_type": "display_data",
          "data": {
            "text/plain": [
              "0 tables [00:00, ? tables/s]"
            ],
            "application/vnd.jupyter.widget-view+json": {
              "version_major": 2,
              "version_minor": 0,
              "model_id": "71a00c8d86744f9dbbd6f84d061f8fec"
            }
          },
          "metadata": {}
        },
        {
          "output_type": "stream",
          "name": "stdout",
          "text": [
            "Dataset csv downloaded and prepared to /root/.cache/huggingface/datasets/csv/default-fa428c5ad7f1a70d/0.0.0/6b34fb8fcf56f7c8ba51dc895bfa2bfbe43546f190a60fcf74bb5e8afdcc2317. Subsequent calls will reuse this data.\n"
          ]
        },
        {
          "output_type": "display_data",
          "data": {
            "text/plain": [
              "  0%|          | 0/2 [00:00<?, ?it/s]"
            ],
            "application/vnd.jupyter.widget-view+json": {
              "version_major": 2,
              "version_minor": 0,
              "model_id": "01f6b24b3eb34962a1ad4b67f21e99ee"
            }
          },
          "metadata": {}
        },
        {
          "output_type": "display_data",
          "data": {
            "text/plain": [
              "  0%|          | 0/1835 [00:00<?, ?ba/s]"
            ],
            "application/vnd.jupyter.widget-view+json": {
              "version_major": 2,
              "version_minor": 0,
              "model_id": "1ad2915b4097438096af58c31ec07739"
            }
          },
          "metadata": {}
        },
        {
          "output_type": "display_data",
          "data": {
            "text/plain": [
              "  0%|          | 0/204 [00:00<?, ?ba/s]"
            ],
            "application/vnd.jupyter.widget-view+json": {
              "version_major": 2,
              "version_minor": 0,
              "model_id": "03cbbf52255c495d9be6c0e9bfd65ebb"
            }
          },
          "metadata": {}
        }
      ]
    },
    {
      "cell_type": "markdown",
      "source": [
        "> Train and test loader for clients/federated data."
      ],
      "metadata": {
        "id": "bCjdL0jR1zDc"
      }
    },
    {
      "cell_type": "code",
      "source": [
        "trainloader_f , testloader_f = load_data(\"/content/F1_Train_clients.csv\",\"/content/F1_test_clients.csv\")"
      ],
      "metadata": {
        "colab": {
          "base_uri": "https://localhost:8080/",
          "height": 277,
          "referenced_widgets": [
            "faf5f29d432d4741ac4ec2dae7868cac",
            "006de7eb91ca404bb84e407bc8571877",
            "126539c60b1748b38e12ccdbf2f899bf",
            "eccaebe2dafb407cb3ef2d8fe42b249b",
            "87b53bcc13a14049bbf8b497d7b253e0",
            "37e90c0adc4746bda41ed1b7a3949b25",
            "97459a10c198489b9038ce28c9a16b7c",
            "a9afc2fac6854250aac9b15b6544e3af",
            "0b6632fa518548a58e3c6d04955f1aae",
            "69403b43ad254752b3f6d9a8e68018fc",
            "ac6c3fcfb8954a2691744133fc354354",
            "1b5c1fa8ae264cdcb4b3fc80668024c7",
            "60ef4912746744af9348469dded69d7c",
            "fbd5a87a88e642729e8b123db60018ac",
            "1bd75e4cbdb441129f3c4af9a1325b9f",
            "e942cd2bd9c64bdd86ea80304aff39be",
            "9d236aaaca834accbfbc5600da40ec8f",
            "a9fa5b4c6651431095623cee01452f3d",
            "85f9a34f54194444a1cba966ad43b355",
            "2bdf738cdf8e4a29ae4fe6d65f7731b5",
            "a1c5273007e445749e26c97393bce6c0",
            "4d228b7ea9e64706bc93d9e1fe31e9b6",
            "50393797bcae41f783be5426fe1b9aa9",
            "6505249ce091448e9904a7b251b4ec93",
            "da66f1defe2a45daadf9f4e0c8bc96a5",
            "8abc6600b4784898ac99a85cb9cadd2e",
            "81a7e04ecd21493fa13ee7d7707b37f4",
            "fb3f7d9aada84eb1a493ecc2197b7fd5",
            "3a42d4895d5745a08adfdef53eaf6a99",
            "36b6b5f5c7664ea4805351898fbbfb9b",
            "c8714a73194c4c72b14050731289d5c9",
            "5391b19302244fdea9fb1b807781e53a",
            "89ef7ab7b25c4b00ba453f9be84f42b1",
            "cdfd4723e4484c50a3ea936ef26f247a",
            "16a5fe31c94d415d9884cfcea92e252a",
            "69578983703046b883755e3ee3de8c4f",
            "a985e6afa8a84494bb32b26511d7ea02",
            "6dc061e309604488972ec69dbb536b5c",
            "6f1c5bde5ea54534b9b5d53698083e48",
            "81fdea2c2deb49cdbc5515b74fdc2aa2",
            "83483e6a8e0b445cb434cb2f1e1e50e5",
            "63626dfe62934235b53302ff3e72453c",
            "07c36ecd8527401eb8995d74108bedcf",
            "211846f0ff6b4abb9846bbc26e9a5339",
            "42ffbe979b164a93ad3cef33e727ee3f",
            "1bcf6b541ca447d487084762f3f086f9",
            "1ced6dbc3b544374a7dd8ad9597f1f4d",
            "1cd9582a2b8c44bbba65c1653c525ba2",
            "455aa7554b9c4ccbb05598b07a99107f",
            "cee99e9c10604baa803187d06d69e9db",
            "8f08e0fb100745d4ace13b3f7800499c",
            "c3c8b86dee9b4dbaa8038c9ce4a5c13f",
            "c227ea0bcbf3489eb2ed15d0ece075be",
            "1e788d7553f04ac78634f5645cf272d2",
            "a401323d52dd4be4bfe42e59ead9a311",
            "4919c4af7cf84b31bf21e75acac1be66",
            "ac4f7266addb478d952b4347233d5abd",
            "0c6f823febae451392ed3f27e5cb80d7",
            "867bb425ad4044dd8507ecb8ac53535b",
            "3539ae143a53402f89027128de0d3dd6",
            "153a46f4098f4512ab79a0d3995a7df3",
            "726e561a79a44e6aae627c53619d3ac4",
            "1ec598dc28e54169a594c8453be0c9d9",
            "4226b3b132e541a1a78d1a55539a4e1c",
            "eac511d5620842f2ad7c1dfa12ce386e",
            "6584c19cf0a540a9bccffbfaa4116445",
            "c84f298095414a24b990421665e8f2a7",
            "d781f184355c4917a5142bebda432ba1",
            "510e1a7ee26d4ea788736dabd3825fca",
            "2ee272e879fc45cdab272ca5dacccc45",
            "57066d70402d489fb78a9693f9855df7",
            "10f4754002d74f7daf52ec1838b96525",
            "cc208f71245b4818b201c640162ec42f",
            "62790c56b85a44c1ab8fdedd942f84b4",
            "9ade422052934cf2aa7c4737f51c3817",
            "a55bcc1dc8804b98b54bb02e6a67db1e",
            "4862f56afd804881af2c8de7b0594300"
          ]
        },
        "id": "tcETS4DiNmnW",
        "outputId": "9042533b-9a4e-4ad8-f565-f304a3ad4f00"
      },
      "execution_count": null,
      "outputs": [
        {
          "output_type": "stream",
          "name": "stderr",
          "text": [
            "WARNING:datasets.builder:Using custom data configuration default-638e516aaadc9f9e\n"
          ]
        },
        {
          "output_type": "stream",
          "name": "stdout",
          "text": [
            "Downloading and preparing dataset csv/default to /root/.cache/huggingface/datasets/csv/default-638e516aaadc9f9e/0.0.0/6b34fb8fcf56f7c8ba51dc895bfa2bfbe43546f190a60fcf74bb5e8afdcc2317...\n"
          ]
        },
        {
          "output_type": "display_data",
          "data": {
            "text/plain": [
              "Downloading data files:   0%|          | 0/2 [00:00<?, ?it/s]"
            ],
            "application/vnd.jupyter.widget-view+json": {
              "version_major": 2,
              "version_minor": 0,
              "model_id": "faf5f29d432d4741ac4ec2dae7868cac"
            }
          },
          "metadata": {}
        },
        {
          "output_type": "display_data",
          "data": {
            "text/plain": [
              "Extracting data files:   0%|          | 0/2 [00:00<?, ?it/s]"
            ],
            "application/vnd.jupyter.widget-view+json": {
              "version_major": 2,
              "version_minor": 0,
              "model_id": "1b5c1fa8ae264cdcb4b3fc80668024c7"
            }
          },
          "metadata": {}
        },
        {
          "output_type": "display_data",
          "data": {
            "text/plain": [
              "0 tables [00:00, ? tables/s]"
            ],
            "application/vnd.jupyter.widget-view+json": {
              "version_major": 2,
              "version_minor": 0,
              "model_id": "50393797bcae41f783be5426fe1b9aa9"
            }
          },
          "metadata": {}
        },
        {
          "output_type": "display_data",
          "data": {
            "text/plain": [
              "0 tables [00:00, ? tables/s]"
            ],
            "application/vnd.jupyter.widget-view+json": {
              "version_major": 2,
              "version_minor": 0,
              "model_id": "cdfd4723e4484c50a3ea936ef26f247a"
            }
          },
          "metadata": {}
        },
        {
          "output_type": "stream",
          "name": "stdout",
          "text": [
            "Dataset csv downloaded and prepared to /root/.cache/huggingface/datasets/csv/default-638e516aaadc9f9e/0.0.0/6b34fb8fcf56f7c8ba51dc895bfa2bfbe43546f190a60fcf74bb5e8afdcc2317. Subsequent calls will reuse this data.\n"
          ]
        },
        {
          "output_type": "display_data",
          "data": {
            "text/plain": [
              "  0%|          | 0/2 [00:00<?, ?it/s]"
            ],
            "application/vnd.jupyter.widget-view+json": {
              "version_major": 2,
              "version_minor": 0,
              "model_id": "42ffbe979b164a93ad3cef33e727ee3f"
            }
          },
          "metadata": {}
        },
        {
          "output_type": "display_data",
          "data": {
            "text/plain": [
              "  0%|          | 0/1835 [00:00<?, ?ba/s]"
            ],
            "application/vnd.jupyter.widget-view+json": {
              "version_major": 2,
              "version_minor": 0,
              "model_id": "4919c4af7cf84b31bf21e75acac1be66"
            }
          },
          "metadata": {}
        },
        {
          "output_type": "display_data",
          "data": {
            "text/plain": [
              "  0%|          | 0/204 [00:00<?, ?ba/s]"
            ],
            "application/vnd.jupyter.widget-view+json": {
              "version_major": 2,
              "version_minor": 0,
              "model_id": "c84f298095414a24b990421665e8f2a7"
            }
          },
          "metadata": {}
        }
      ]
    },
    {
      "cell_type": "code",
      "execution_count": null,
      "metadata": {
        "id": "bEjDUrS25Lgk"
      },
      "outputs": [],
      "source": [
        "def my_plot(epochs, loss, type_  ,acc):\n",
        "    # plt.ylabel(type_)\n",
        "    plt.xlabel('No. of epochs')\n",
        "    # plt.plot()\n",
        "    plt.title(type_)\n",
        "    plt.plot(epochs, acc,'b', label='acc')\n",
        "    plt.plot(epochs, loss,'r', label='loss')\n",
        "    plt.legend(['acc', 'loss'])\n",
        "    plt.show()"
      ]
    },
    {
      "cell_type": "code",
      "execution_count": null,
      "metadata": {
        "id": "K0PFmv8m5RUn"
      },
      "outputs": [],
      "source": [
        "def train(net, trainloader, epochs):\n",
        "    optimizer = AdamW(net.parameters(), lr=5e-5)\n",
        "    net.train()\n",
        "    \n",
        "    # net.to('cuda')\n",
        "    # predictions = torch.tensor([[1, 2, 3], [4, 5, 6]])\n",
        "    \n",
        "    outputs_ = []\n",
        "    outputs_bbb = []\n",
        "    loss_vals = []\n",
        "    acc_vals = []\n",
        "\n",
        "\n",
        "    for ep in range(epochs):\n",
        "        outputs_ = []\n",
        "        outputs_bbb = []\n",
        "        epoch_loss= []\n",
        "        acc_each_epock = []\n",
        "        \n",
        "        for batch in trainloader:\n",
        "            batch = {k: v.to(DEVICE) for k, v in batch.items()}\n",
        "            outputs = net(**batch)\n",
        "            loss = outputs.loss\n",
        "            logits = outputs.logits\n",
        "            # print('outputs.loss : ' , outputs.loss , 'outputs.acc : ' ,outputs.logits)\n",
        "            metric = load_metric(\"accuracy\")\n",
        "            predictions = torch.argmax(logits, dim=-1)\n",
        "\n",
        "            outputs_.append(predictions)\n",
        "            outputs_bbb.append(batch[\"labels\"])\n",
        "            \n",
        "            # print(type(predictions))\n",
        "            # print(metric.compute(predictions=predictions, references=batch[\"labels\"]))\n",
        "\n",
        "            acc_each_epock.append(metric.compute(predictions=predictions, references=batch[\"labels\"])['accuracy'])\n",
        "\n",
        "            loss.backward()\n",
        "            epoch_loss.append(loss.item())\n",
        "            optimizer.step()\n",
        "            optimizer.zero_grad()\n",
        "\n",
        "            gc.collect()\n",
        "\n",
        "            torch.cuda.empty_cache()\n",
        "\n",
        "        print('Epoch No :' ,str(ep+1), 'Loss : ' , sum(epoch_loss)/len(epoch_loss) , 'ACC : ' , sum(acc_each_epock)/len(acc_each_epock))\n",
        "        acc_dectionary = metric.compute(predictions=predictions, references=batch[\"labels\"])\n",
        "        acc_vals.append(acc_dectionary['accuracy'])\n",
        "        loss_vals.append(sum(epoch_loss)/len(epoch_loss))\n",
        "\n",
        "    # net.to('cpu')\n",
        "    result = torch.cat(outputs_, dim=0).cpu().numpy()\n",
        "    res = torch.cat(outputs_bbb, dim=-1).cpu().numpy()\n",
        "    cf_matrix = classification_report(res, result)\n",
        "    print(cf_matrix)\n",
        "    # plotting\n",
        "    my_plot(np.linspace(1, epochs, epochs).astype(int), loss_vals, 'Loss/Acc', acc_vals)\n",
        "    # my_plot(np.linspace(1, epochs, epochs).astype(int), acc_vals, 'Accuracy')\n",
        "    # net.to('cuda')\n",
        "\n"
      ]
    },
    {
      "cell_type": "code",
      "execution_count": null,
      "metadata": {
        "id": "6RgpTa7J5W86"
      },
      "outputs": [],
      "source": [
        "def test(net, testloader):\n",
        "    metric = load_metric(\"accuracy\")\n",
        "    loss = 0\n",
        "    net.eval()\n",
        "    \n",
        "    outputs_ = []\n",
        "    outputs_bbb = []\n",
        "    epoch_loss= []\n",
        "\n",
        "    for batch in testloader:\n",
        "        batch = {k: v.to(DEVICE) for k, v in batch.items()}\n",
        "        with torch.no_grad():\n",
        "            outputs = net(**batch)\n",
        "        logits = outputs.logits\n",
        "        # loss += outputs.loss.item()\n",
        "        epoch_loss.append(outputs.loss.item())\n",
        "        predictions = torch.argmax(logits, dim=-1)\n",
        "        \n",
        "        outputs_.append(predictions)\n",
        "        outputs_bbb.append(batch[\"labels\"])\n",
        "            \n",
        "        metric.add_batch(predictions=predictions, references=batch[\"labels\"])\n",
        "    # loss /= len(testloader.dataset)\n",
        "    loss = sum(epoch_loss)/len(epoch_loss)\n",
        "    accuracy = metric.compute()[\"accuracy\"]\n",
        "\n",
        "    result = torch.cat(outputs_, dim=0).cpu().numpy()\n",
        "    res = torch.cat(outputs_bbb, dim=-1).cpu().numpy()\n",
        "    cf_matrix = classification_report(res, result)\n",
        "    print(cf_matrix)\n",
        "\n",
        "    # return loss, accuracy\n",
        "    print('Loss : ' , loss , 'ACC : ' , accuracy)"
      ]
    },
    {
      "cell_type": "markdown",
      "metadata": {
        "id": "eYtkKlnd5cGf"
      },
      "source": [
        "> #### Train & Test the Model"
      ]
    },
    {
      "cell_type": "code",
      "execution_count": null,
      "metadata": {
        "id": "oWlYlpAI5Y6R",
        "colab": {
          "base_uri": "https://localhost:8080/",
          "height": 184,
          "referenced_widgets": [
            "b21971ca99db4b5dbdea49a98e9257e4",
            "1b2e9afdc5b946248f0f6962d9e488cb",
            "79a0d2df86c94101af7d5feae7e950b5",
            "030f4a540fc847398b1c3699a5c7096d",
            "3d6d2bd0da144197868a8d2ac9ce132d",
            "d62e53b9a2d849d2aa5f6fe957c35a01",
            "57bbe710718c45b58d7d3b2f193c7bda",
            "c425fbb395164d0497d38cf9fc64e550",
            "b79bd38b00c34f0d8d62bba20b1a75ef",
            "df5f2cf13ab549a08b8fc6c5a0e5f0c3",
            "26bfca860ae64391baff4964fbabcecd"
          ]
        },
        "outputId": "24f9c8bc-9db6-4c08-b295-ce6c5d88d523"
      },
      "outputs": [
        {
          "output_type": "display_data",
          "data": {
            "text/plain": [
              "Downloading:   0%|          | 0.00/714M [00:00<?, ?B/s]"
            ],
            "application/vnd.jupyter.widget-view+json": {
              "version_major": 2,
              "version_minor": 0,
              "model_id": "b21971ca99db4b5dbdea49a98e9257e4"
            }
          },
          "metadata": {}
        },
        {
          "output_type": "stream",
          "name": "stderr",
          "text": [
            "Some weights of the model checkpoint at bert-base-multilingual-cased were not used when initializing BertForSequenceClassification: ['cls.predictions.decoder.weight', 'cls.seq_relationship.bias', 'cls.predictions.transform.LayerNorm.bias', 'cls.predictions.transform.dense.bias', 'cls.seq_relationship.weight', 'cls.predictions.transform.LayerNorm.weight', 'cls.predictions.bias', 'cls.predictions.transform.dense.weight']\n",
            "- This IS expected if you are initializing BertForSequenceClassification from the checkpoint of a model trained on another task or with another architecture (e.g. initializing a BertForSequenceClassification model from a BertForPreTraining model).\n",
            "- This IS NOT expected if you are initializing BertForSequenceClassification from the checkpoint of a model that you expect to be exactly identical (initializing a BertForSequenceClassification model from a BertForSequenceClassification model).\n",
            "Some weights of BertForSequenceClassification were not initialized from the model checkpoint at bert-base-multilingual-cased and are newly initialized: ['classifier.bias', 'classifier.weight']\n",
            "You should probably TRAIN this model on a down-stream task to be able to use it for predictions and inference.\n"
          ]
        }
      ],
      "source": [
        "# Create model\n",
        "net_xlm = AutoModelForSequenceClassification.from_pretrained( CHECKPOINT, num_labels=20 ).to(DEVICE)"
      ]
    },
    {
      "cell_type": "code",
      "execution_count": null,
      "metadata": {
        "colab": {
          "base_uri": "https://localhost:8080/",
          "height": 931,
          "referenced_widgets": [
            "412481e9e14841c1b9bf99b86c26a2e6",
            "fd065d4453df45d89f3aad7086458f21",
            "719e871f31844992af41c83805193d93",
            "30422bf5558f4636bdff71d6c14d5668",
            "7902e0e98a56486882e13af063af4d52",
            "bf50a3b8ba0740fa85401c937c1d8258",
            "43271726a91e4a358510ae216c2e342a",
            "9bd1b86b54bf4cc7b42dc4ce8d4f0bd7",
            "f8b1b0f20fb048cd84eefd92574f2435",
            "2551f0968ce34b339b9b1f3bfe892510",
            "c8b68661339b4e0bb734b0e795cbf05e"
          ]
        },
        "id": "PhsEM7Q25giG",
        "outputId": "2f93fbe0-78a9-45a8-9207-2583967cc140"
      },
      "outputs": [
        {
          "output_type": "stream",
          "name": "stderr",
          "text": [
            "/usr/local/lib/python3.7/dist-packages/transformers/optimization.py:310: FutureWarning: This implementation of AdamW is deprecated and will be removed in a future version. Use the PyTorch implementation torch.optim.AdamW instead, or set `no_deprecation_warning=True` to disable this warning\n",
            "  FutureWarning,\n",
            "You're using a BertTokenizerFast tokenizer. Please note that with a fast tokenizer, using the `__call__` method is faster than using a method to encode the text followed by a call to the `pad` method to get a padded encoding.\n",
            "/usr/local/lib/python3.7/dist-packages/ipykernel_launcher.py:25: FutureWarning: load_metric is deprecated and will be removed in the next major version of datasets. Use 'evaluate.load' instead, from the new library 🤗 Evaluate: https://huggingface.co/docs/evaluate\n"
          ]
        },
        {
          "output_type": "display_data",
          "data": {
            "text/plain": [
              "Downloading builder script:   0%|          | 0.00/1.65k [00:00<?, ?B/s]"
            ],
            "application/vnd.jupyter.widget-view+json": {
              "version_major": 2,
              "version_minor": 0,
              "model_id": "412481e9e14841c1b9bf99b86c26a2e6"
            }
          },
          "metadata": {}
        },
        {
          "output_type": "stream",
          "name": "stdout",
          "text": [
            "Epoch No : 1 Loss :  3.003364006678263 ACC :  0.05406746031746032\n",
            "              precision    recall  f1-score   support\n",
            "\n",
            "           0       0.05      0.25      0.08        48\n",
            "           1       0.07      0.30      0.12        70\n",
            "           2       0.00      0.00      0.00        48\n",
            "           3       0.00      0.00      0.00        42\n",
            "           4       0.00      0.00      0.00        43\n",
            "           5       0.00      0.00      0.00        50\n",
            "           6       0.00      0.00      0.00        49\n",
            "           7       0.00      0.00      0.00        55\n",
            "           8       0.07      0.07      0.07        44\n",
            "           9       0.04      0.02      0.03        50\n",
            "          10       0.04      0.06      0.05        51\n",
            "          11       0.00      0.00      0.00        44\n",
            "          12       0.04      0.02      0.03        50\n",
            "          13       0.20      0.02      0.04        49\n",
            "          14       0.00      0.00      0.00        48\n",
            "          15       0.05      0.17      0.08        59\n",
            "          16       0.00      0.00      0.00        51\n",
            "          17       0.04      0.02      0.03        53\n",
            "          18       0.00      0.00      0.00        48\n",
            "          19       0.02      0.02      0.02        48\n",
            "\n",
            "    accuracy                           0.05      1000\n",
            "   macro avg       0.03      0.05      0.03      1000\n",
            "weighted avg       0.03      0.05      0.03      1000\n",
            "\n"
          ]
        },
        {
          "output_type": "display_data",
          "data": {
            "text/plain": [
              "<Figure size 432x288 with 1 Axes>"
            ],
            "image/png": "[encoded data removed]"
          },
          "metadata": {
            "needs_background": "light"
          }
        }
      ],
      "source": [
        "# train(net_bert, trainloader_s, 10)\n",
        "# train(net_bert, trainloader_s, 5)\n",
        "train(net_xlm, trainloader_s, 1)"
      ]
    },
    {
      "cell_type": "code",
      "execution_count": null,
      "metadata": {
        "colab": {
          "base_uri": "https://localhost:8080/"
        },
        "id": "zKeTMEF-5naS",
        "outputId": "ada1244e-5dab-4a8b-d627-228d2b8f3597"
      },
      "outputs": [
        {
          "output_type": "stream",
          "name": "stdout",
          "text": [
            "              precision    recall  f1-score   support\n",
            "\n",
            "           0       0.00      0.00      0.00         5\n",
            "           1       0.05      0.80      0.09         5\n",
            "           2       0.00      0.00      0.00         1\n",
            "           3       0.00      0.00      0.00         3\n",
            "           4       0.00      0.00      0.00         7\n",
            "           5       0.00      0.00      0.00         5\n",
            "           6       0.00      0.00      0.00         4\n",
            "           7       0.00      0.00      0.00         7\n",
            "           8       0.00      0.00      0.00         4\n",
            "           9       0.00      0.00      0.00         5\n",
            "          10       0.00      0.00      0.00         7\n",
            "          11       0.00      0.00      0.00         5\n",
            "          12       0.00      0.00      0.00         4\n",
            "          13       0.00      0.00      0.00         7\n",
            "          14       0.00      0.00      0.00         4\n",
            "          15       0.00      0.00      0.00         4\n",
            "          16       0.00      0.00      0.00         6\n",
            "          17       0.00      0.00      0.00         6\n",
            "          18       0.00      0.00      0.00         6\n",
            "          19       0.00      0.00      0.00         5\n",
            "\n",
            "    accuracy                           0.04       100\n",
            "   macro avg       0.00      0.04      0.00       100\n",
            "weighted avg       0.00      0.04      0.00       100\n",
            "\n",
            "Loss :  2.9952508449554442 ACC :  0.04\n"
          ]
        }
      ],
      "source": [
        "test(net_xlm, testloader_s)"
      ]
    },
    {
      "cell_type": "code",
      "source": [
        "test(net_xlm, testloader_f)"
      ],
      "metadata": {
        "colab": {
          "base_uri": "https://localhost:8080/"
        },
        "id": "4JOF5zSJU3x3",
        "outputId": "7cfb7972-da83-4632-c98f-7d77336c2796"
      },
      "execution_count": null,
      "outputs": [
        {
          "output_type": "stream",
          "name": "stderr",
          "text": [
            "You're using a BertTokenizerFast tokenizer. Please note that with a fast tokenizer, using the `__call__` method is faster than using a method to encode the text followed by a call to the `pad` method to get a padded encoding.\n"
          ]
        },
        {
          "output_type": "stream",
          "name": "stdout",
          "text": [
            "              precision    recall  f1-score   support\n",
            "\n",
            "           0       0.00      0.00      0.00         4\n",
            "           1       0.03      1.00      0.05         2\n",
            "           2       0.10      0.20      0.13         5\n",
            "           3       0.00      0.00      0.00         8\n",
            "           4       0.00      0.00      0.00         4\n",
            "           5       0.00      0.00      0.00         8\n",
            "           6       0.00      0.00      0.00         5\n",
            "           7       0.00      0.00      0.00         3\n",
            "           8       0.00      0.00      0.00         6\n",
            "           9       0.00      0.00      0.00         6\n",
            "          11       0.00      0.00      0.00         6\n",
            "          12       0.21      0.60      0.32         5\n",
            "          13       0.00      0.00      0.00         2\n",
            "          14       0.00      0.00      0.00         6\n",
            "          15       0.00      0.00      0.00         9\n",
            "          16       0.00      0.00      0.00         5\n",
            "          17       0.00      0.00      0.00         2\n",
            "          18       0.00      0.00      0.00         7\n",
            "          19       0.00      0.00      0.00         7\n",
            "\n",
            "    accuracy                           0.06       100\n",
            "   macro avg       0.02      0.09      0.03       100\n",
            "weighted avg       0.02      0.06      0.02       100\n",
            "\n",
            "Loss :  2.971472072601318 ACC :  0.06\n"
          ]
        }
      ]
    },
    {
      "cell_type": "markdown",
      "source": [
        "> ### Save the model"
      ],
      "metadata": {
        "id": "IvQ6VFhx3Tzs"
      }
    },
    {
      "cell_type": "code",
      "source": [
        "torch.save(net_xlm,'/content/xlm_multi_en_only.pt')"
      ],
      "metadata": {
        "id": "YsMuK4iIGeJq"
      },
      "execution_count": null,
      "outputs": []
    },
    {
      "cell_type": "code",
      "source": [
        "from google.colab import drive\n",
        "drive.mount('/content/drive')"
      ],
      "metadata": {
        "id": "D88HlOuWe0PI"
      },
      "execution_count": null,
      "outputs": []
    },
    {
      "cell_type": "code",
      "source": [
        "torch.save(net_xlm,'/content/drive/MyDrive/Federated sys PJ/bert_base_multilingual/xlm_multi_en_only.pt')\n"
      ],
      "metadata": {
        "id": "lciUAB0oeaeF"
      },
      "execution_count": null,
      "outputs": []
    },
    {
      "cell_type": "code",
      "execution_count": null,
      "metadata": {
        "id": "Fn6ymBAs5i9j"
      },
      "outputs": [],
      "source": [
        "#Clear CUDA cache\n",
        "import gc\n",
        "\n",
        "gc.collect()\n",
        "\n",
        "torch.cuda.empty_cache()"
      ]
    },
    {
      "cell_type": "code",
      "execution_count": null,
      "metadata": {
        "id": "elXCdQ7G61R3",
        "colab": {
          "base_uri": "https://localhost:8080/"
        },
        "outputId": "7e8e2b60-67a9-4b24-af8c-426d11c63b31"
      },
      "outputs": [
        {
          "output_type": "execute_result",
          "data": {
            "text/plain": [
              "5"
            ]
          },
          "metadata": {},
          "execution_count": 45
        }
      ],
      "source": [
        "5"
      ]
    },
    {
      "cell_type": "markdown",
      "metadata": {
        "id": "7sHIFKF_7Hgd"
      },
      "source": [
        "> ## Test our model with input sentace and compare it with the original model from Huggingface "
      ]
    },
    {
      "cell_type": "code",
      "execution_count": null,
      "metadata": {
        "id": "Eavs3x5Nld7I"
      },
      "outputs": [],
      "source": [
        "def test_with_sentance(text,net):\n",
        "\n",
        "  # text = \"good morning\"\n",
        "  # text = preprocess(text)\n",
        "\n",
        "  encoded_input = tokenizer(text, return_tensors='pt')\n",
        "  net.to('cpu')\n",
        "  # print(type())\n",
        "  # encoded_input = {k: v.to(DEVICE) for k, v in encoded_input.items()}\n",
        "  output = net(**encoded_input)\n",
        "  scores = output[0][0].detach().numpy()\n",
        "  scores = softmax(scores)\n",
        "\n",
        "  # download label mapping\n",
        "  labels=[]\n",
        "  mapping_link = f\"https://raw.githubusercontent.com/cardiffnlp/tweeteval/main/datasets/emoji/mapping.txt\"\n",
        "  with urllib.request.urlopen(mapping_link) as f:\n",
        "      html = f.read().decode('utf-8').split(\"\\n\")\n",
        "      csvreader = csv.reader(html, delimiter='\\t')\n",
        "  labels = [row[1] for row in csvreader if len(row) > 1]\n",
        "\n",
        "  ranking = np.argsort(scores)\n",
        "  ranking = ranking[::-1]\n",
        "  for i in range(scores.shape[0]):\n",
        "      l = labels[ranking[i]]\n",
        "      s = scores[ranking[i]]\n",
        "      print(f\"{ranking[i]}) {l} {np.round(float(s), 4)}\")\n",
        "\n",
        "      if i == 2 :\n",
        "        break\n",
        "\n",
        "  # net.to('cuda')\n"
      ]
    },
    {
      "cell_type": "code",
      "execution_count": null,
      "metadata": {
        "colab": {
          "base_uri": "https://localhost:8080/"
        },
        "id": "9fpmO9ox8G8j",
        "outputId": "1f7e4d63-5e41-482b-db8a-5e5de79f88f8"
      },
      "outputs": [
        {
          "output_type": "stream",
          "name": "stdout",
          "text": [
            "12) ☀ 0.1052\n",
            "1) 😍 0.093\n",
            "0) ❤ 0.0871\n"
          ]
        }
      ],
      "source": [
        "test_with_sentance(\"Good morning\",net_xlm)"
      ]
    },
    {
      "cell_type": "code",
      "execution_count": null,
      "metadata": {
        "colab": {
          "base_uri": "https://localhost:8080/"
        },
        "id": "hOiEUR4z8KFZ",
        "outputId": "ff72c408-1a0a-4fd1-cb6f-7fdae8895131"
      },
      "outputs": [
        {
          "output_type": "stream",
          "name": "stdout",
          "text": [
            "12) ☀ 0.0963\n",
            "1) 😍 0.0907\n",
            "0) ❤ 0.0817\n"
          ]
        }
      ],
      "source": [
        "test_with_sentance(\"I love her\",net_xlm)"
      ]
    },
    {
      "cell_type": "code",
      "execution_count": null,
      "metadata": {
        "colab": {
          "base_uri": "https://localhost:8080/"
        },
        "id": "InK1TvIp8Ma7",
        "outputId": "cb070f1b-b33b-433b-8bcb-6241e93c3a24"
      },
      "outputs": [
        {
          "output_type": "stream",
          "name": "stdout",
          "text": [
            "1) 😍 0.0693\n",
            "2) 😂 0.0582\n",
            "7) ✨ 0.0578\n"
          ]
        }
      ],
      "source": [
        "test_with_sentance(\"Nice car\",net_xlm)"
      ]
    },
    {
      "cell_type": "code",
      "execution_count": null,
      "metadata": {
        "colab": {
          "base_uri": "https://localhost:8080/"
        },
        "id": "mZu66qJj8VI9",
        "outputId": "2438b964-4ffd-4912-87da-45707a57c991"
      },
      "outputs": [
        {
          "output_type": "stream",
          "name": "stdout",
          "text": [
            "1) 😍 0.0861\n",
            "12) ☀ 0.0764\n",
            "0) ❤ 0.0658\n"
          ]
        }
      ],
      "source": [
        "test_with_sentance(\"Very nice car\",net_xlm)"
      ]
    },
    {
      "cell_type": "code",
      "source": [
        "test_with_sentance(\"I am happy\",net_xlm)"
      ],
      "metadata": {
        "colab": {
          "base_uri": "https://localhost:8080/"
        },
        "id": "bDO6zyjle9s7",
        "outputId": "55e37faf-74d5-41c2-9ffd-b0bf83d2c386"
      },
      "execution_count": null,
      "outputs": [
        {
          "output_type": "stream",
          "name": "stdout",
          "text": [
            "12) ☀ 0.1016\n",
            "1) 😍 0.0909\n",
            "0) ❤ 0.0836\n"
          ]
        }
      ]
    },
    {
      "cell_type": "code",
      "source": [
        "test_with_sentance(\"I am very happy\",net_xlm)"
      ],
      "metadata": {
        "colab": {
          "base_uri": "https://localhost:8080/"
        },
        "id": "uAbaEqR4e9cm",
        "outputId": "f0cba90c-4dfc-4434-dbc2-cab0ed53a420"
      },
      "execution_count": null,
      "outputs": [
        {
          "output_type": "stream",
          "name": "stdout",
          "text": [
            "12) ☀ 0.0987\n",
            "1) 😍 0.0905\n",
            "0) ❤ 0.0835\n"
          ]
        }
      ]
    },
    {
      "cell_type": "markdown",
      "metadata": {
        "id": "cw9AphXh-aMV"
      },
      "source": [
        "# <a> 2. The Federated system with Flower Framework ( IID )."
      ]
    },
    {
      "cell_type": "markdown",
      "metadata": {
        "id": "zTVsBdUTDFkz"
      },
      "source": [
        "> ## <a> 2.1 The first stage with `Multilingual-MiniLM-L12-H384 model` for the Federated systems with our model"
      ]
    },
    {
      "cell_type": "markdown",
      "source": [
        "> Note: for this stage we will test our model with the federated test dataset."
      ],
      "metadata": {
        "id": "w2aHx9G03snX"
      }
    },
    {
      "cell_type": "code",
      "source": [
        "model_loaded = torch.load('/content/xlm_multi_en_only.pt')"
      ],
      "metadata": {
        "id": "nak7ZuIlSRBQ"
      },
      "execution_count": null,
      "outputs": []
    },
    {
      "cell_type": "code",
      "source": [
        "DEVICE = torch.device(\"cpu\")"
      ],
      "metadata": {
        "id": "X-DCOdmrSbgW"
      },
      "execution_count": null,
      "outputs": []
    },
    {
      "cell_type": "code",
      "source": [
        "DEVICE"
      ],
      "metadata": {
        "colab": {
          "base_uri": "https://localhost:8080/"
        },
        "id": "Bu4e8yUHUOr0",
        "outputId": "85f46f78-23c5-4dbf-c67a-ce20bfba66fa"
      },
      "execution_count": null,
      "outputs": [
        {
          "output_type": "execute_result",
          "data": {
            "text/plain": [
              "device(type='cpu')"
            ]
          },
          "metadata": {},
          "execution_count": 55
        }
      ]
    },
    {
      "cell_type": "code",
      "source": [
        "model_loaded.to(DEVICE)"
      ],
      "metadata": {
        "id": "WhmiuT9bUJpy"
      },
      "execution_count": null,
      "outputs": []
    },
    {
      "cell_type": "markdown",
      "metadata": {
        "id": "YJ3w5OLQ-owp"
      },
      "source": [
        "> ### <a>Flower client "
      ]
    },
    {
      "cell_type": "code",
      "source": [
        "# Flower client\n",
        "class IMDBClient(fl.client.NumPyClient):\n",
        "    def __init__(self, net, trainloader, testloader, cid) -> None:\n",
        "        self.net = net\n",
        "        self.trainloader = trainloader\n",
        "        self.testloader = testloader\n",
        "        self.cid = cid\n",
        "\n",
        "    def get_parameters(self, config):\n",
        "        return [val.cpu().numpy() for _, val in self.net.state_dict().items()]\n",
        "\n",
        "    def set_parameters(self, parameters):\n",
        "        params_dict = zip(self.net.state_dict().keys(), parameters)\n",
        "        state_dict = OrderedDict({k: torch.Tensor(v) for k, v in params_dict})\n",
        "        self.net.load_state_dict(state_dict, strict=True)\n",
        "\n",
        "    def fit(self, parameters, config):\n",
        "        self.set_parameters(parameters)\n",
        "        \n",
        "        print(\"Training Started...\")\n",
        "        train(self.net, self.trainloader, epochs=1)\n",
        "        print(\"Training Finished.\")\n",
        "\n",
        "        loss, accuracy = test(self.net, self.testloader)\n",
        "        print('Client No. : ' , self.cid  , ' Acc per client : ', accuracy)\n",
        "\n",
        "        return self.get_parameters(config={}), len(self.trainloader), {}\n",
        "\n",
        "    def evaluate(self, parameters, config):\n",
        "        self.set_parameters(parameters)\n",
        "        loss, accuracy = test(self.net, self.testloader)\n",
        "        print('loss : ', loss , '  accuracy : ' ,accuracy)\n",
        "        return float(loss), len(self.testloader), {\"accuracy\": float(accuracy)}\n"
      ],
      "metadata": {
        "id": "fEbdCVO5ngmz"
      },
      "execution_count": null,
      "outputs": []
    },
    {
      "cell_type": "code",
      "source": [
        "def client_fn(cid: str) -> fl.client.Client:\n",
        "\n",
        "\n",
        "    # trainloader, testloader = load_data()\n",
        "    # trainloader_f , testloader_f = load_data(\"/content/F1_Train_clients.csv\",\"/content/F1_test_clients.csv\")\n",
        "\n",
        "    # start the partitioning\n",
        "\n",
        "    partition_size = len(trainloader_f) // NUM_CLIENTS\n",
        "    idx_from, idx_to = int(cid) * partition_size, (int(cid) + 1) * partition_size\n",
        "\n",
        "    partition_size_testloader = len(testloader_f) // NUM_CLIENTS\n",
        "    idx_from_testloader, idx_to_testloader = int(cid) * partition_size_testloader, (int(cid) + 1) * partition_size_testloader\n",
        "\n",
        "    list_partition = []\n",
        "    for i in trainloader_f:\n",
        "      list_partition.append(i)\n",
        "\n",
        "    list_partitiontes_testloader = []\n",
        "\n",
        "    # the centralized and federated test\n",
        "    for i in testloader_f:\n",
        "      list_partitiontes_testloader.append(i)\n",
        "\n",
        "    # this is for the second stage.\n",
        "\n",
        "    # for i in testloader_s:\n",
        "    #   list_partitiontes_testloader.append(i)\n",
        "        \n",
        "    \n",
        "    list_partition = list_partition[idx_from:idx_to]\n",
        "    # list_partitiontes_testloader = list_partitiontes_testloader[idx_from:idx_to]\n",
        "\n",
        "    # Create and return client\n",
        "    return IMDBClient(model_loaded, list_partition, list_partitiontes_testloader, cid)"
      ],
      "metadata": {
        "id": "8RsqDbrRnjOa"
      },
      "execution_count": null,
      "outputs": []
    },
    {
      "cell_type": "code",
      "source": [
        "def weighted_average(metrics: List[Tuple[int, Metrics]]) -> Metrics:\n",
        "    # Multiply accuracy of each client by number of examples used\n",
        "    accuracies = [num_examples * m[\"accuracy\"] for num_examples, m in metrics]\n",
        "    examples = [num_examples for num_examples, _ in metrics]\n",
        "    # res = list(map(truediv, accuracies, examples))\n",
        "\n",
        "    print(\"###  metrics : \", metrics)\n",
        "    for num_examples, m in metrics:\n",
        "      print(\"### num_examples : \" , num_examples ,' m : ' , m , ' type of m ' , type(m),'\\n')\n",
        "      print('### m[\"accuracy\"] : ' , m[\"accuracy\"]  ) \n",
        "    \n",
        "    # Aggregate and return custom metric (weighted average)\n",
        "    return {\"accuracy\": sum(accuracies) / sum(examples), \"accuracy client\": metrics}"
      ],
      "metadata": {
        "id": "rGUeAz29gQTq"
      },
      "execution_count": null,
      "outputs": []
    },
    {
      "cell_type": "code",
      "source": [
        "NUM_CLIENTS = 2\n",
        "\n",
        "# Create FedAvg strategy\n",
        "strategy=fl.server.strategy.FedAvg(\n",
        "\n",
        "        evaluate_metrics_aggregation_fn=weighted_average,  # <-- pass the metric aggregation function\n",
        "\n",
        "        # fraction_fit=0.1,  # Sample 10% of available clients for training\n",
        "        # fraction_evaluate=0.05,  # Sample 5% of available clients for evaluation\n",
        "        # min_fit_clients=10,  # Never sample less than 10 clients for training\n",
        "        # min_evaluate_clients=NUM_CLIENTS,  # Never sample less than 5 clients for evaluation\n",
        "        # min_available_clients=int(NUM_CLIENTS * 0.75),  # Wait until at least 75 clients are available\n",
        ")\n",
        "\n",
        "# Start simulation\n",
        "fl.simulation.start_simulation(\n",
        "    client_fn=client_fn,\n",
        "    num_clients=NUM_CLIENTS,\n",
        "    config=fl.server.ServerConfig(num_rounds=1),\n",
        "    strategy=strategy,\n",
        ")"
      ],
      "metadata": {
        "id": "G71GnXDNpDmV"
      },
      "execution_count": null,
      "outputs": []
    },
    {
      "cell_type": "code",
      "source": [],
      "metadata": {
        "id": "AGhtMJKTpKpZ"
      },
      "execution_count": null,
      "outputs": []
    },
    {
      "cell_type": "markdown",
      "metadata": {
        "id": "86cJ_yxGT0jG"
      },
      "source": [
        "> ## <a> 2.2 The second stage with `Multilingual-MiniLM-L12-H384 model` for the Federated systems with our model"
      ]
    },
    {
      "cell_type": "markdown",
      "source": [
        "> Note : for this stage we will test our model with the centralized test dataset"
      ],
      "metadata": {
        "id": "7dEMTJyZ4KoD"
      }
    },
    {
      "cell_type": "code",
      "source": [
        "model_loaded = torch.load('/content/xlm_multi_en_only.pt')"
      ],
      "metadata": {
        "id": "gbsE7UHDT0jG"
      },
      "execution_count": null,
      "outputs": []
    },
    {
      "cell_type": "code",
      "source": [
        "DEVICE = torch.device(\"cpu\")"
      ],
      "metadata": {
        "id": "i7YBCgYBT0jH"
      },
      "execution_count": null,
      "outputs": []
    },
    {
      "cell_type": "code",
      "source": [
        "DEVICE"
      ],
      "metadata": {
        "colab": {
          "base_uri": "https://localhost:8080/"
        },
        "outputId": "85f46f78-23c5-4dbf-c67a-ce20bfba66fa",
        "id": "zv9L8St8T0jH"
      },
      "execution_count": null,
      "outputs": [
        {
          "output_type": "execute_result",
          "data": {
            "text/plain": [
              "device(type='cpu')"
            ]
          },
          "metadata": {},
          "execution_count": 55
        }
      ]
    },
    {
      "cell_type": "code",
      "source": [
        "model_loaded.to(DEVICE)"
      ],
      "metadata": {
        "id": "-OVdd-nJT0jH"
      },
      "execution_count": null,
      "outputs": []
    },
    {
      "cell_type": "markdown",
      "metadata": {
        "id": "w4DzCsVYT0jI"
      },
      "source": [
        "> ### <a>Flower client "
      ]
    },
    {
      "cell_type": "code",
      "source": [
        "# Flower client\n",
        "class IMDBClient(fl.client.NumPyClient):\n",
        "    def __init__(self, net, trainloader, testloader, cid) -> None:\n",
        "        self.net = net\n",
        "        self.trainloader = trainloader\n",
        "        self.testloader = testloader\n",
        "        self.cid = cid\n",
        "\n",
        "    def get_parameters(self, config):\n",
        "        return [val.cpu().numpy() for _, val in self.net.state_dict().items()]\n",
        "\n",
        "    def set_parameters(self, parameters):\n",
        "        params_dict = zip(self.net.state_dict().keys(), parameters)\n",
        "        state_dict = OrderedDict({k: torch.Tensor(v) for k, v in params_dict})\n",
        "        self.net.load_state_dict(state_dict, strict=True)\n",
        "\n",
        "    def fit(self, parameters, config):\n",
        "        self.set_parameters(parameters)\n",
        "        \n",
        "        print(\"Training Started...\")\n",
        "        train(self.net, self.trainloader, epochs=1)\n",
        "        print(\"Training Finished.\")\n",
        "\n",
        "        loss, accuracy = test(self.net, self.testloader)\n",
        "        print('Client No. : ' , self.cid  , ' Acc per client : ', accuracy)\n",
        "        \n",
        "        return self.get_parameters(config={}), len(self.trainloader), {}\n",
        "\n",
        "    def evaluate(self, parameters, config):\n",
        "        self.set_parameters(parameters)\n",
        "        loss, accuracy = test(self.net, self.testloader)\n",
        "        print('loss : ', loss , '  accuracy : ' ,accuracy)\n",
        "        return float(loss), len(self.testloader), {\"accuracy\": float(accuracy)}\n"
      ],
      "metadata": {
        "id": "ovyoO7lmT0jI"
      },
      "execution_count": null,
      "outputs": []
    },
    {
      "cell_type": "code",
      "source": [
        "def client_fn(cid: str) -> fl.client.Client:\n",
        "\n",
        "    # trainloader, testloader = load_data()\n",
        "    # trainloader_f , testloader_f = load_data(\"/content/F1_Train_clients.csv\",\"/content/F1_test_clients.csv\")\n",
        "\n",
        "    partition_size = len(trainloader_f) // NUM_CLIENTS\n",
        "    idx_from, idx_to = int(cid) * partition_size, (int(cid) + 1) * partition_size\n",
        "\n",
        "    partition_size_testloader = len(testloader_f) // NUM_CLIENTS\n",
        "    idx_from_testloader, idx_to_testloader = int(cid) * partition_size_testloader, (int(cid) + 1) * partition_size_testloader\n",
        "\n",
        "    list_partition = []\n",
        "    for i in trainloader_f:\n",
        "      list_partition.append(i)\n",
        "\n",
        "    list_partitiontes_testloader = []\n",
        "\n",
        "    # the centralized and federated test\n",
        "\n",
        "    # for i in testloader_f:\n",
        "    #   list_partitiontes_testloader.append(i)\n",
        "\n",
        "    for i in testloader_s:\n",
        "      list_partitiontes_testloader.append(i)\n",
        "        \n",
        "    \n",
        "    list_partition = list_partition[idx_from:idx_to]\n",
        "    # list_partitiontes_testloader = list_partitiontes_testloader[idx_from:idx_to]\n",
        "\n",
        "    # Create and return client\n",
        "    return IMDBClient(model_loaded, list_partition, list_partitiontes_testloader, cid)"
      ],
      "metadata": {
        "id": "IQvof-8rT0jI"
      },
      "execution_count": null,
      "outputs": []
    },
    {
      "cell_type": "code",
      "source": [
        "def weighted_average(metrics: List[Tuple[int, Metrics]]) -> Metrics:\n",
        "    # Multiply accuracy of each client by number of examples used\n",
        "    accuracies = [num_examples * m[\"accuracy\"] for num_examples, m in metrics]\n",
        "    examples = [num_examples for num_examples, _ in metrics]\n",
        "    # res = list(map(truediv, accuracies, examples))\n",
        "\n",
        "    print(\"###  metrics : \", metrics)\n",
        "    for num_examples, m in metrics:\n",
        "      print(\"### num_examples : \" , num_examples ,' m : ' , m , ' type of m ' , type(m),'\\n')\n",
        "      print('### m[\"accuracy\"] : ' , m[\"accuracy\"]  ) \n",
        "    \n",
        "    # Aggregate and return custom metric (weighted average)\n",
        "    return {\"accuracy\": sum(accuracies) / sum(examples), \"accuracy client\": metrics}"
      ],
      "metadata": {
        "id": "dzXmGzF4gEi-"
      },
      "execution_count": null,
      "outputs": []
    },
    {
      "cell_type": "code",
      "source": [
        "NUM_CLIENTS = 2\n",
        "\n",
        "# Create FedAvg strategy\n",
        "strategy=fl.server.strategy.FedAvg(\n",
        "        evaluate_metrics_aggregation_fn=weighted_average,  # <-- pass the metric aggregation function\n",
        "        \n",
        "        # fraction_fit=0.1,  # Sample 10% of available clients for training\n",
        "        # fraction_evaluate=0.05,  # Sample 5% of available clients for evaluation\n",
        "        # min_fit_clients=10,  # Never sample less than 10 clients for training\n",
        "        # min_evaluate_clients=NUM_CLIENTS,  # Never sample less than 5 clients for evaluation\n",
        "        # min_available_clients=int(NUM_CLIENTS * 0.75),  # Wait until at least 75 clients are available\n",
        ")\n",
        "\n",
        "# Start simulation\n",
        "fl.simulation.start_simulation(\n",
        "    client_fn=client_fn,\n",
        "    num_clients=NUM_CLIENTS,\n",
        "    config=fl.server.ServerConfig(num_rounds=1),\n",
        "    strategy=strategy,\n",
        ")"
      ],
      "metadata": {
        "id": "2n68sEIZT0jI"
      },
      "execution_count": null,
      "outputs": []
    },
    {
      "cell_type": "markdown",
      "metadata": {
        "id": "22BKEu0zzv_W"
      },
      "source": [
        "# <a> 3. The start of the central training server on the federated dataset"
      ]
    },
    {
      "cell_type": "markdown",
      "metadata": {
        "id": "_OvEPzNVzv_k"
      },
      "source": [
        "> #### Train & Test the Model"
      ]
    },
    {
      "cell_type": "code",
      "source": [
        "# load the model\n",
        "model_loaded = torch.load('/content/xlm_multi_en_only.pt')"
      ],
      "metadata": {
        "id": "xOIs0-qzVZ89"
      },
      "execution_count": null,
      "outputs": []
    },
    {
      "cell_type": "code",
      "source": [
        "DEVICE = torch.device(\"cpu\")"
      ],
      "metadata": {
        "id": "piLWPNgtVZ89"
      },
      "execution_count": null,
      "outputs": []
    },
    {
      "cell_type": "code",
      "source": [
        "DEVICE"
      ],
      "metadata": {
        "colab": {
          "base_uri": "https://localhost:8080/"
        },
        "outputId": "82f9f75e-1fef-4c4a-f07f-f27351141258",
        "id": "87hVEMPRVZ8-"
      },
      "execution_count": null,
      "outputs": [
        {
          "output_type": "execute_result",
          "data": {
            "text/plain": [
              "device(type='cpu')"
            ]
          },
          "metadata": {},
          "execution_count": 63
        }
      ]
    },
    {
      "cell_type": "code",
      "source": [
        "model_loaded.to(DEVICE)"
      ],
      "metadata": {
        "id": "lkQANHeBVZ8-"
      },
      "execution_count": null,
      "outputs": []
    },
    {
      "cell_type": "code",
      "execution_count": null,
      "metadata": {
        "colab": {
          "base_uri": "https://localhost:8080/",
          "height": 836
        },
        "outputId": "a88dc5c4-59fa-45ff-dd40-bb93ff0b2ee0",
        "id": "4lJxVZYszv_m"
      },
      "outputs": [
        {
          "output_type": "stream",
          "name": "stderr",
          "text": [
            "/usr/local/lib/python3.7/dist-packages/transformers/optimization.py:310: FutureWarning: This implementation of AdamW is deprecated and will be removed in a future version. Use the PyTorch implementation torch.optim.AdamW instead, or set `no_deprecation_warning=True` to disable this warning\n",
            "  FutureWarning,\n"
          ]
        },
        {
          "output_type": "stream",
          "name": "stdout",
          "text": [
            "Epoch No : 1 Loss :  2.9795629580815635 ACC :  0.08035714285714286\n",
            "              precision    recall  f1-score   support\n",
            "\n",
            "           0       0.11      0.14      0.12        50\n",
            "           1       0.07      0.24      0.11        45\n",
            "           2       0.06      0.15      0.09        52\n",
            "           3       0.06      0.07      0.06        56\n",
            "           4       0.00      0.00      0.00        52\n",
            "           5       0.03      0.06      0.04        54\n",
            "           6       0.00      0.00      0.00        36\n",
            "           7       0.00      0.00      0.00        41\n",
            "           8       0.00      0.00      0.00        41\n",
            "           9       0.08      0.24      0.12        71\n",
            "          10       0.20      0.11      0.14        57\n",
            "          11       0.00      0.00      0.00        50\n",
            "          12       0.21      0.29      0.24        45\n",
            "          13       0.00      0.00      0.00        55\n",
            "          14       0.00      0.00      0.00        42\n",
            "          15       0.07      0.07      0.07        57\n",
            "          16       0.11      0.02      0.03        57\n",
            "          17       0.10      0.12      0.11        49\n",
            "          18       0.00      0.00      0.00        47\n",
            "          19       0.00      0.00      0.00        43\n",
            "\n",
            "    accuracy                           0.08      1000\n",
            "   macro avg       0.05      0.08      0.06      1000\n",
            "weighted avg       0.06      0.08      0.06      1000\n",
            "\n"
          ]
        },
        {
          "output_type": "display_data",
          "data": {
            "text/plain": [
              "<Figure size 432x288 with 1 Axes>"
            ],
            "image/png": "[encoded data removed]"
          },
          "metadata": {
            "needs_background": "light"
          }
        }
      ],
      "source": [
        "# train(net_bert, trainloader_f, 10)\n",
        "# train(net_bert, trainloader_f, 5)\n",
        "train(model_loaded, trainloader_f, 1)"
      ]
    },
    {
      "cell_type": "code",
      "source": [
        "test(net_bert, testloader_s)"
      ],
      "metadata": {
        "colab": {
          "base_uri": "https://localhost:8080/"
        },
        "id": "71_nxV65dJTd",
        "outputId": "ad981901-4936-4b42-fd8c-17e4c61cb639"
      },
      "execution_count": null,
      "outputs": [
        {
          "output_type": "stream",
          "name": "stdout",
          "text": [
            "              precision    recall  f1-score   support\n",
            "\n",
            "           0       0.00      0.00      0.00         5\n",
            "           1       0.05      0.80      0.09         5\n",
            "           2       0.00      0.00      0.00         1\n",
            "           3       0.00      0.00      0.00         3\n",
            "           4       0.00      0.00      0.00         7\n",
            "           5       0.00      0.00      0.00         5\n",
            "           6       0.00      0.00      0.00         4\n",
            "           7       0.00      0.00      0.00         7\n",
            "           8       0.00      0.00      0.00         4\n",
            "           9       0.00      0.00      0.00         5\n",
            "          10       0.00      0.00      0.00         7\n",
            "          11       0.00      0.00      0.00         5\n",
            "          12       0.00      0.00      0.00         4\n",
            "          13       0.00      0.00      0.00         7\n",
            "          14       0.00      0.00      0.00         4\n",
            "          15       0.00      0.00      0.00         4\n",
            "          16       0.00      0.00      0.00         6\n",
            "          17       0.00      0.00      0.00         6\n",
            "          18       0.00      0.00      0.00         6\n",
            "          19       0.00      0.00      0.00         5\n",
            "\n",
            "    accuracy                           0.04       100\n",
            "   macro avg       0.00      0.04      0.00       100\n",
            "weighted avg       0.00      0.04      0.00       100\n",
            "\n",
            "Loss :  2.9952508449554442 ACC :  0.04\n"
          ]
        }
      ]
    },
    {
      "cell_type": "code",
      "execution_count": null,
      "metadata": {
        "colab": {
          "base_uri": "https://localhost:8080/"
        },
        "outputId": "50e3e7d0-77f0-42d0-c850-3816180a2dc6",
        "id": "d2Xe1L4xzv_m"
      },
      "outputs": [
        {
          "output_type": "stream",
          "name": "stdout",
          "text": [
            "              precision    recall  f1-score   support\n",
            "\n",
            "           0       0.00      0.00      0.00         4\n",
            "           1       0.03      1.00      0.05         2\n",
            "           2       0.10      0.20      0.13         5\n",
            "           3       0.00      0.00      0.00         8\n",
            "           4       0.00      0.00      0.00         4\n",
            "           5       0.00      0.00      0.00         8\n",
            "           6       0.00      0.00      0.00         5\n",
            "           7       0.00      0.00      0.00         3\n",
            "           8       0.00      0.00      0.00         6\n",
            "           9       0.00      0.00      0.00         6\n",
            "          11       0.00      0.00      0.00         6\n",
            "          12       0.21      0.60      0.32         5\n",
            "          13       0.00      0.00      0.00         2\n",
            "          14       0.00      0.00      0.00         6\n",
            "          15       0.00      0.00      0.00         9\n",
            "          16       0.00      0.00      0.00         5\n",
            "          17       0.00      0.00      0.00         2\n",
            "          18       0.00      0.00      0.00         7\n",
            "          19       0.00      0.00      0.00         7\n",
            "\n",
            "    accuracy                           0.06       100\n",
            "   macro avg       0.02      0.09      0.03       100\n",
            "weighted avg       0.02      0.06      0.02       100\n",
            "\n",
            "Loss :  2.971472072601318 ACC :  0.06\n"
          ]
        }
      ],
      "source": [
        "test(net_bert, testloader_f)"
      ]
    },
    {
      "cell_type": "markdown",
      "source": [
        "> to save our model"
      ],
      "metadata": {
        "id": "wOb_HCuC445U"
      }
    },
    {
      "cell_type": "code",
      "source": [
        "torch.save(net_bert,'/content/xlm_multi_en_only.pt')"
      ],
      "metadata": {
        "id": "6lwf6GTHzv_n"
      },
      "execution_count": null,
      "outputs": []
    },
    {
      "cell_type": "code",
      "source": [
        "from google.colab import drive\n",
        "drive.mount('/content/drive')"
      ],
      "metadata": {
        "colab": {
          "base_uri": "https://localhost:8080/"
        },
        "outputId": "efef7ab4-f6bb-45c9-f5dd-ba15fbeacf2b",
        "id": "icpkZBZdzv_n"
      },
      "execution_count": null,
      "outputs": [
        {
          "output_type": "stream",
          "name": "stdout",
          "text": [
            "Mounted at /content/drive\n"
          ]
        }
      ]
    },
    {
      "cell_type": "code",
      "source": [
        "torch.save(net_bert,'/content/drive/MyDrive/Federated sys PJ/bert_base_multilingual/xlm_multi_en_only.pt')\n"
      ],
      "metadata": {
        "id": "dbok_BxJzv_n"
      },
      "execution_count": null,
      "outputs": []
    },
    {
      "cell_type": "code",
      "execution_count": null,
      "metadata": {
        "id": "8e2U2y7pzv_n"
      },
      "outputs": [],
      "source": [
        "#Clear CUDA cache\n",
        "import gc\n",
        "\n",
        "gc.collect()\n",
        "\n",
        "torch.cuda.empty_cache()"
      ]
    }
  ],
  "metadata": {
    "colab": {
      "collapsed_sections": [],
      "provenance": [],
      "machine_shape": "hm"
    },
    "kernelspec": {
      "display_name": "Python 3",
      "language": "python",
      "name": "python3"
    },
    "language_info": {
      "codemirror_mode": {
        "name": "ipython",
        "version": 3
      },
      "file_extension": ".py",
      "mimetype": "text/x-python",
      "name": "python",
      "nbconvert_exporter": "python",
      "pygments_lexer": "ipython3",
      "version": "3.7.4"
    },
    "gpuClass": "standard",
    "accelerator": "GPU"
  },
  "nbformat": 4,
  "nbformat_minor": 0
}